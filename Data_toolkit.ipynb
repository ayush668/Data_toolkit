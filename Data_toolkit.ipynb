{
 "cells": [
  {
   "cell_type": "code",
   "execution_count": null,
   "id": "a5ac20f8-b2fc-4fc1-8f72-2bacc2a51f74",
   "metadata": {},
   "outputs": [],
   "source": [
    "#1.What is NumPy, and why is it widely used in Python.\n",
    "'''\n",
    "NumPy (Numerical Python) is a powerful library in Python used for numerical computing. \n",
    "It provides support for arrays, matrices, and a large collection of mathematical functions to operate on these data structures. \n",
    "It is widely used in data science, machine learning, scientific computing, and engineering applications.\n",
    "\n",
    "Why is NumPy Widely Used?\n",
    "Efficient Multidimensional Array Handling:\n",
    "NumPy introduces the ndarray object, a highly optimized, multidimensional array that allows fast and memory-efficient manipulation of data\n",
    "compared to traditional Python lists.\n",
    "Performance:\n",
    "Operations on NumPy arrays are executed in compiled C code under the hood, making them much faster than equivalent operations on Python lists.\n",
    "Mathematical Functions and Operations:\n",
    "NumPy provides a wide range of mathematical functions for operations like linear algebra, statistical analysis, Fourier transforms, etc., \n",
    "making it indispensable for scientific computing.\n",
    "Interoperability:\n",
    "NumPy arrays can interface easily with data in other libraries, such as Pandas, SciPy, and scikit-learn, making it a foundational tool in the Python ecosystem.\n",
    "Support for Broadcasting:\n",
    "It supports broadcasting, which allows arithmetic operations on arrays of different shapes, streamlining many tasks.\n",
    "Data Manipulation:\n",
    "NumPy offers tools for reshaping, slicing, indexing, and performing advanced manipulations on array data.\n",
    "Foundation for Other Libraries:\n",
    "Many other popular Python libraries, such as TensorFlow, PyTorch, and Pandas, are built on top of NumPy.\n",
    "\n",
    "'''"
   ]
  },
  {
   "cell_type": "code",
   "execution_count": null,
   "id": "78882b48-89fe-4814-94d3-4c68bc170734",
   "metadata": {},
   "outputs": [],
   "source": [
    "#2.How does broadcasting work in NumPy\n",
    "'''\n",
    "Broadcasting in NumPy allows arrays of different shapes to be combined in arithmetic operations without explicitly reshaping them. \n",
    "It automatically expands smaller arrays to match the shape of larger ones, enabling element-wise operations.\n",
    "Broadcasting follows specific rules to make arrays compatible for operations:\n",
    "\n",
    "Rule 1: Match from the Rightmost Dimensions:\n",
    "Compare the shapes of the arrays element-wise, starting from the rightmost dimension. Two dimensions are compatible if:\n",
    "They are equal.\n",
    "One of them is 1.\n",
    "Rule 2: Expand Dimensions of Size 1:\n",
    "If a dimension is 1 in one array, it is \"stretched\" to match the corresponding dimension in the other array.\n",
    "Rule 3: Incompatible Shapes Raise an Error:\n",
    "If the shapes are not compatible according to the above rules, NumPy raises a ValueError.\n",
    "\n",
    "'''"
   ]
  },
  {
   "cell_type": "code",
   "execution_count": null,
   "id": "f1e771cc-488f-4fba-bdd1-411df01262cc",
   "metadata": {},
   "outputs": [],
   "source": [
    "#3.What is a Pandas DataFrame.\n",
    "'''\n",
    "A Pandas DataFrame is a two-dimensional, labeled data structure in Python, similar to a table in a relational database, \n",
    "an Excel spreadsheet, or a data frame in R. It is one of the core data structures provided by the Pandas library and is widely used for \n",
    "data analysis and manipulation.\n",
    "\n",
    "Key Features of a Pandas DataFrame:\n",
    "Tabular Format:\n",
    "Organized into rows and columns.\n",
    "Rows are identified by an index, and columns by labels.\n",
    "Heterogeneous Data:\n",
    "Columns can contain different data types (e.g., integers, floats, strings).\n",
    "Labeled Indexing:\n",
    "Allows indexing and selecting data by row and column labels instead of just numeric indices.\n",
    "Integrated with NumPy:\n",
    "Built on top of NumPy, enabling efficient numerical operations.\n",
    "Supports Missing Data:\n",
    "Handles missing or null values using NaN.\n",
    "'''"
   ]
  },
  {
   "cell_type": "code",
   "execution_count": null,
   "id": "2f2ec404-d0d4-428c-837a-6ab7a84fd54e",
   "metadata": {},
   "outputs": [],
   "source": [
    "#4.Explain the use of the groupby() method in Pandas.\n",
    "'''\n",
    "The groupby() method in Pandas is used to group data based on certain conditions or values in one or more columns.\n",
    "After grouping, you can perform aggregation, transformation, or other operations on each group independently.\n",
    "syntax\n",
    "df.groupby(by, axis=0, level=None, as_index=True, sort=True)\n",
    "'''\n"
   ]
  },
  {
   "cell_type": "code",
   "execution_count": null,
   "id": "74ff6989-7994-4857-abad-ed79f0e43986",
   "metadata": {},
   "outputs": [],
   "source": [
    "#5.Why is Seaborn preferred for statistical visualizations\n",
    "'''\n",
    "Seaborn is preferred for statistical visualizations because it is specifically designed to work well with structured datasets \n",
    "and provides a high-level interface for creating informative and aesthetically pleasing graphics. It is built on top of Matplotlib \n",
    "and integrates seamlessly with Pandas DataFrames, making it highly effective for exploratory data analysis (EDA).\n",
    "'''"
   ]
  },
  {
   "cell_type": "code",
   "execution_count": null,
   "id": "c393dde0-5a40-474b-881d-03af4b26de28",
   "metadata": {},
   "outputs": [],
   "source": [
    "#6.What are the differences between NumPy arrays and Python list\n",
    "'''\n",
    "Differences Between NumPy Arrays and Python Lists\n",
    "Data Type:\n",
    "NumPy arrays are homogeneous, meaning all elements in the array must have the same data type. \n",
    "In contrast, Python lists are heterogeneous, allowing elements of different data types within the same list.\n",
    "\n",
    "Performance:\n",
    "NumPy arrays are much faster than Python lists because they use contiguous memory allocation and are implemented in C. \n",
    "Lists, being more flexible, come with additional overhead, making them slower for numerical computations.\n",
    "\n",
    "Memory Usage:\n",
    "NumPy arrays are more memory-efficient, as they store elements in a compact format. Python lists require more memory because they \n",
    "store pointers to objects and additional metadata for each element.\n",
    "\n",
    "Functionality:\n",
    "NumPy arrays provide a rich set of built-in mathematical operations, such as element-wise addition, multiplication, and statistical \n",
    "functions. Python lists, by default, lack such functionality and require external libraries or manual implementation.\n",
    "\n",
    "Dimensionality:\n",
    "NumPy arrays can represent multi-dimensional data easily, such as 2D matrices or 3D tensors. Python lists can mimic multi-dimensionality \n",
    "using nested lists, but managing and performing operations on them becomes cumbersome.\n",
    "'''"
   ]
  },
  {
   "cell_type": "code",
   "execution_count": null,
   "id": "7b380478-a129-47af-b2e6-feac3c6d9362",
   "metadata": {},
   "outputs": [],
   "source": [
    "#7.What is a heatmap, and when should it be used\n",
    "'''\n",
    "A heatmap is a data visualization technique that represents data in a matrix-like format, where individual values in a dataset \n",
    "are represented as colors. The intensity or variation in color reflects the magnitude of the values, making it easy to identify patterns, \n",
    "trends, and outliers in the data.\n",
    "Use:\n",
    "Quick identification of patterns.\n",
    "Clear comparison across multiple dimensions.\n",
    "Easy to interpret visually, even for non-technical audiences.\n",
    "'''"
   ]
  },
  {
   "cell_type": "code",
   "execution_count": null,
   "id": "4139311b-b4df-4302-9ed5-0bc77b981af0",
   "metadata": {},
   "outputs": [],
   "source": [
    "#8.What does the term “vectorized operation” mean in NumPy\n",
    "'''\n",
    "In NumPy, vectorized operations refer to performing operations on entire arrays (vectors, matrices, or higher-dimensional data) without the need\n",
    "for explicit loops. These operations are executed at the element-wise level, \n",
    "and they are optimized for speed and efficiency using low-level C implementations behind the scenes.\n",
    "Key Features of Vectorized Operations:\n",
    "Element-wise Execution:\n",
    "Operations are automatically applied to each element of the array.\n",
    "Example: Adding two arrays performs element-wise addition.\n",
    "\n",
    "No Loops Needed:\n",
    "Eliminates the need for manual loops, leading to concise and readable code.\n",
    "\n",
    "Performance Optimized:\n",
    "Operations are much faster because they are implemented in optimized C code and leverage SIMD (Single Instruction Multiple Data) processing.\n",
    "\n",
    "Broadcasting Support:\n",
    "Automatically handles operations between arrays of different shapes if they are compatible.\n",
    "\n",
    "'''"
   ]
  },
  {
   "cell_type": "code",
   "execution_count": null,
   "id": "d15a18a1-c047-448f-882e-91ce4bfa5962",
   "metadata": {},
   "outputs": [],
   "source": [
    "#9.How does Matplotlib differ from Plotly\n",
    "'''\n",
    "Differences Between Matplotlib and Plotly\n",
    "Matplotlib and Plotly are two popular Python libraries for data visualization. While they share the goal of creating insightful visualizations, \n",
    "they differ significantly in their approach, features, and use cases.\n",
    "\n",
    "1. Interactivity:\n",
    "Matplotlib:\n",
    "Matplotlib creates static, non-interactive plots by default. While interactivity can be added using libraries like mplcursors or extensions such \n",
    "as Matplotlib's widget functionality, it is not inherently interactive.\n",
    "Plotly:\n",
    "Plotly is designed for creating interactive plots out of the box. Users can zoom, pan, hover for tooltips, and dynamically manipulate visualizations \n",
    "without additional setup.\n",
    "2.Customization:\n",
    "Matplotlib:\n",
    "Offers extensive customization options, but they often require manual adjustments using parameters and functions. While powerful, \n",
    "the configuration can be verbose and complex for intricate plots.\n",
    "Plotly:\n",
    "Provides intuitive customization with a declarative syntax. Complex features like dropdown menus, sliders, and annotations are easier \n",
    "to implement compared to Matplotlib.\n",
    "3. Ease of Use:\n",
    "Matplotlib:\n",
    "Has a steeper learning curve for beginners, especially for advanced customizations. However, it is more straightforward for basic plotting tasks.\n",
    "Plotly:\n",
    "Is more beginner-friendly for creating attractive and interactive plots with minimal code.\n",
    "4. Output Formats:\n",
    "Matplotlib:\n",
    "Generates static plots that can be saved as images (e.g., PNG, PDF) or displayed in notebooks. Interactivity is limited.\n",
    "Plotly:\n",
    "Creates interactive plots that can be rendered in web browsers and exported as HTML files for easy sharing. It also supports static \n",
    "image exports if needed.\n",
    "\n",
    "'''"
   ]
  },
  {
   "cell_type": "code",
   "execution_count": null,
   "id": "07eb312c-c27a-4fb2-8e19-b471afb5ce8a",
   "metadata": {},
   "outputs": [],
   "source": [
    "#10.What is the significance of hierarchical indexing in Pandas\n",
    "'''\n",
    "Hierarchical indexing (also known as MultiIndex) in Pandas refers to the ability to have multiple levels of indexing for rows \n",
    "and columns in a DataFrame or Series. This feature allows you to handle and analyze data with more complex relationships, \n",
    "making it easier to work with large, multi-dimensional datasets. It provides a way to label data with more than one key, enabling more \n",
    "flexible data manipulation.\n",
    "Key Significance and Benefits:\n",
    "1. Handling Multi-Dimensional Data\n",
    "Hierarchical indexing allows for more intuitive and structured representation of multi-dimensional data in \n",
    "a two-dimensional structure like a DataFrame. Instead of creating separate columns or tables for each dimension, \n",
    "you can use hierarchical indices to represent multiple dimensions within the same DataFrame.\n",
    "2. Efficient Data Selection and Slicing\n",
    "MultiIndex allows you to easily slice and select data at different levels of the hierarchy. By using multiple levels of indexing,\n",
    "you can access subsets of the data more efficiently without needing complex filtering or reshaping.\n",
    "3. Better Grouping and Aggregation\n",
    "Hierarchical indexing enhances the grouping and aggregation process. When data is grouped by multiple levels, it's easier to perform\n",
    "operations such as sum, mean, or count on specific subgroups, allowing for more granular insights.\n",
    "\n",
    "'''"
   ]
  },
  {
   "cell_type": "code",
   "execution_count": null,
   "id": "23b99fe4-9581-4dbb-8390-8985b1708eb6",
   "metadata": {},
   "outputs": [],
   "source": [
    "#11.What is the role of Seaborn’s pairplot() function\n",
    "'''\n",
    "The pairplot() function in Seaborn is a powerful tool used for visualizing relationships between multiple variables in a dataset,\n",
    "especially when working with numerical features. It creates a matrix of scatterplots (pairwise plots) to show how each variable relates \n",
    "to others in a dataset, making it easier to explore the correlations and distributions of features.\n",
    "Key Roles and Features of pairplot():\n",
    "1. Visualizing Pairwise Relationships:\n",
    "pairplot() creates scatterplots for every combination of numerical features in the dataset. This helps to identify patterns, correlations, \n",
    "or potential relationships between variables.\n",
    "2. Diagonal Plots for Distribution:\n",
    "On the diagonal of the pairplot matrix, histograms or KDE plots (Kernel Density Estimations) are displayed for each variable. This allows you to \n",
    "visually inspect the distribution of individual variables.\n",
    "3. Color-Coding by Categorical Variables:\n",
    "Pairplot allows you to color-code the data points based on a categorical variable (e.g., species or class). This makes it easier to distinguish \n",
    "between different groups and understand how each group behaves\n",
    "across the various numerical feature\n",
    "'''"
   ]
  },
  {
   "cell_type": "code",
   "execution_count": null,
   "id": "942d822e-9374-4a18-84aa-12618b68d123",
   "metadata": {},
   "outputs": [],
   "source": [
    "#12.What is the purpose of the describe() function in Pandas.\n",
    "'''\n",
    "The describe() function in Pandas is used to generate summary statistics of numerical columns in a DataFrame or Series.\n",
    "It provides a quick overview of the distribution and central tendency of the data, \n",
    "which can help in understanding the general characteristics of a dataset during the exploratory data analysis (EDA) phase.\n",
    "Understanding Data Distribution:\n",
    "The describe() function provides an overview of how the data is spread out. By looking at measures like the mean, standard deviation, and \n",
    "percentiles, you can understand whether the data is skewed, normally distributed, or if there are outliers.\n",
    "\n",
    "3. Identifying Missing Values:\n",
    "The count value from the describe() function indicates how many non-null (non-missing) values are present in each column. \n",
    "This is useful for detecting missing data in a dataset.\n",
    "\n",
    "4. Quick Summary of Key Metrics:\n",
    "It serves as a quick summary tool, providing a compact representation of key statistics, which helps analysts and data scientists\n",
    "assess data quality and decide on the next steps for cleaning or further analysis.\n",
    "\n",
    "5. Works on Both Series and DataFrames:\n",
    "If applied on a Series, it will return summary statistics for that single column.\n",
    "If applied on a DataFrame, it will provide summary statistics for all numerical columns.\n",
    "6. Handling Categorical Data:\n",
    "When applied to categorical data (e.g., strings or categories), describe() provides different metrics like:\n",
    "\n",
    "Count: The number of non-null entries.\n",
    "Unique: The number of unique values.\n",
    "Top: The most frequent value.\n",
    "Freq: The frequency of the most frequent value\n",
    "\n",
    "'''"
   ]
  },
  {
   "cell_type": "code",
   "execution_count": null,
   "id": "38e4aa5b-b845-4f09-962a-7df5d72f1d08",
   "metadata": {},
   "outputs": [],
   "source": [
    "#13.Why is handling missing data important in Pandas.\n",
    "'''\n",
    "Handling missing data is crucial in Pandas (and in any data analysis workflow) because missing values can significantly impact the quality and\n",
    "accuracy of your analysis, modeling, and decision-making processes. Properly managing missing data ensures that your results are valid and reliable.\n",
    "\n",
    "Here are several key reasons why handling missing data is important:\n",
    "\n",
    "1. Prevents Distortion of Analysis:\n",
    "Missing data can lead to biased results or distorted patterns in your analysis. For example, if certain rows or columns with missing values are \n",
    "ignored or treated improperly, they can affect summary statistics \n",
    "2. Ensures Accuracy in Machine Learning Models:\n",
    "Many machine learning algorithms (e.g., linear regression, decision trees, SVM) cannot handle missing values directly. If missing data is not dealt \n",
    "with appropriately, you could end up with errors or models that produce inaccurate predictions.\n",
    "Imputation (filling in missing values with estimates) or removal of rows/columns with missing values are common strategies to ensure models are trained \n",
    "on complete data.\n",
    "3. Avoids Data Loss:\n",
    "Removing rows or columns with missing data without considering their significance can lead to loss of valuable information. \n",
    "Sometimes, missing data occurs in patterns, and removing it might discard important trends.\n",
    "Imputing missing values can help retain as much data as possible without losing critical information.\n",
    "'''"
   ]
  },
  {
   "cell_type": "code",
   "execution_count": null,
   "id": "76d2fbdd-e17b-4c86-9b3f-56803d22ec72",
   "metadata": {},
   "outputs": [],
   "source": [
    "#14.What are the benefits of using Plotly for data visualization\n",
    "'''\n",
    "Plotly is a popular data visualization library that offers a wide range of benefits, making it an attractive \n",
    "choice for creating interactive, high-quality visualizations in Python. Here are the key benefits of using Plotly:\n",
    "\n",
    "1. Interactive Visualizations:\n",
    "Plotly enables the creation of interactive charts that allow users to zoom, pan, hover over data points, and view detailed tooltips.\n",
    "This is particularly useful for exploring large datasets or sharing visualizations with others, as it enhances the user experience by \n",
    "allowing real-time interaction with the data.\n",
    "Example: A line chart where users can hover over points to see exact values, zoom in to focus on specific time periods, or pan across \n",
    "the data range.\n",
    "\n",
    "2. High-Quality, Aesthetic Visualizations:\n",
    "Plotly generates visually appealing and publication-ready charts with minimal customization required. The charts are not only \n",
    "professional-looking but also allow you to easily customize elements such as colors, layouts, and styles.\n",
    "Example: Creating a sleek and polished 3D scatter plot or heatmap that looks clean and sophisticated right out of the box.\n",
    "\n",
    "3. Wide Range of Plot Types:\n",
    "Plotly supports a variety of chart types, including but not limited to:\n",
    "2D and 3D Scatter Plots\n",
    "Line Charts\n",
    "Bar Charts\n",
    "Heatmaps\n",
    "Pie Charts\n",
    "Bubble Charts\n",
    "Surface Plots\n",
    "Histograms\n",
    "Geographical Maps\n",
    "It also supports specialized charts like sunburst charts, violin plots, and contour plots, making it versatile for any type of data visualization.\n",
    "4. Integration with Jupyter Notebooks:\n",
    "Plotly works seamlessly with Jupyter Notebooks and other interactive environments. The visualizations are rendered directly in the notebook,\n",
    "allowing for easy integration into data analysis workflows, where you can visualize and explore data interactively.\n",
    "5. Customization and Flexibility:\n",
    "Plotly provides fine-grained control over every aspect of the chart. You can customize the layout, axes, titles, annotations, colors, and more. \n",
    "It also supports adding multiple traces (layers) to a single plot, making it easier to represent complex data relationships.\n",
    "6. Web-Based Visualizations:\n",
    "Plotly allows you to share visualizations online through its Plotly Cloud service or by exporting charts as HTML files. This makes it easy to \n",
    "embed interactive visualizations on websites, dashboards, or presentations, enhancing collaboration and sharing insights with a wider audience.\n",
    "7. Real-Time Plotting and Updates:\n",
    "Plotly supports real-time data visualization. This means that you can update a plot dynamically as new data arrives, making it ideal for dashboards\n",
    "and monitoring systems.\n",
    "8. Built-In Statistical Features:\n",
    "Plotly provides a range of statistical tools for data visualization, such as regression lines, trendlines, and confidence intervals. This makes it \n",
    "easy to visualize not just raw data but also statistical relationships and patterns.\n",
    "9. Cross-Language Support:\n",
    "Plotly is not limited to Python. It supports multiple programming languages, including R, Julia, and MATLAB, making it useful for users working in \n",
    "different environments.\n",
    "10. Integration with Dash for Web Apps:\n",
    "Plotly integrates seamlessly with Dash, a framework for building interactive, web-based dashboards. This allows you to combine the power of Plotly \n",
    "visualizations with interactivity and layout control to create fully functional data dashboards.\n",
    "11. Ease of Use:\n",
    "Plotly’s API is designed to be user-friendly and intuitive. You can create complex visualizations with just a few lines of code, making it accessible \n",
    "for both beginners and experienced data scientists.\n",
    "'''\n"
   ]
  },
  {
   "cell_type": "code",
   "execution_count": null,
   "id": "efbac2e1-8208-4818-acf1-21df209d89ae",
   "metadata": {},
   "outputs": [],
   "source": [
    "#15.How does NumPy handle multidimensional arrays.\n",
    "'''\n",
    "NumPy efficiently handles multidimensional arrays (also called ndarrays) by providing a robust structure and tools to manipulate, \n",
    "compute, and process data in multiple dimensions. Here's an explanation of how NumPy manages multidimensional arrays:\n",
    "\n",
    "1. ndarray Structure\n",
    "A NumPy array can have one or more dimensions. For example:\n",
    "\n",
    "1D array: [1, 2, 3]\n",
    "2D array (matrix): [[1, 2, 3], [4, 5, 6]]\n",
    "3D array (cube-like): [[[1, 2], [3, 4]], [[5, 6], [7, 8]]]\n",
    "The array is represented by a single object, numpy.ndarray, which has attributes like:\n",
    "\n",
    "shape: The dimensions of the array.\n",
    "ndim: The number of dimensions.\n",
    "size: The total number of elements.\n",
    "dtype: The data type of the elements.\n",
    "itemsize: The size of each element in bytes.\n",
    "2. Memory Efficiency\n",
    "Multidimensional arrays are stored in a contiguous block of memory, which allows efficient access and computation.\n",
    "Unlike nested Python lists, NumPy arrays are homogeneous (all elements must have the same type), reducing overhead and speeding up operations.\n",
    "3. Creation of Multidimensional Arrays\n",
    "NumPy provides several methods to create multidimensional arrays:\n",
    "\n",
    "Manually specify data:\n",
    "import numpy as np\n",
    "arr = np.array([[1, 2, 3], [4, 5, 6]])  # 2D array\n",
    "Predefined methods:\n",
    "np.zeros((2, 3)): Creates a 2x3 array of zeros.\n",
    "np.ones((3, 4)): Creates a 3x4 array of ones.\n",
    "np.random.random((2, 2, 2)): Creates a 3D array of random numbers.\n",
    "np.arange(12).reshape(3, 4): Creates a 3x4 array by reshaping a 1D array.\n",
    "4. Indexing and Slicing\n",
    "NumPy allows intuitive indexing and slicing for multidimensional arrays:\n",
    "Access elements using indices:\n",
    "arr = np.array([[1, 2, 3], [4, 5, 6]])\n",
    "print(arr[1, 2])  # Output: 6\n",
    "Slice along dimensions:\n",
    "print(arr[:, 1])  # Output: [2, 5] (second column)\n",
    "5. Broadcasting\n",
    "NumPy handles operations on arrays of different shapes using broadcasting, which expands smaller arrays to match the dimensions of larger arrays.\n",
    "arr = np.array([[1, 2, 3], [4, 5, 6]])\n",
    "print(arr + 10)  # Adds 10 to every element\n",
    "6. Vectorized Operations\n",
    "Operations on multidimensional arrays are vectorized, meaning they are applied element-wise without the need for explicit loops.\n",
    "arr = np.array([[1, 2], [3, 4]])\n",
    "print(arr * arr)  # Element-wise multiplication\n",
    "7. Manipulation of Dimensions\n",
    "NumPy provides methods to reshape, flatten, and manipulate dimensions:\n",
    "Reshape: Change the shape of an array.\n",
    "arr = np.arange(12).reshape(3, 4)  # 3x4 array\n",
    "Flatten: Convert a multidimensional array to a 1D array.\n",
    "arr.flatten()\n",
    "Transpose: Swap rows and columns.\n",
    "arr.T  # Transpose of the array\n",
    "8. Mathematical Operations\n",
    "NumPy provides efficient methods for mathematical operations across dimensions:\n",
    "Sum along axes: arr.sum(axis=0) (column-wise sum).\n",
    "Mean along axes: arr.mean(axis=1) (row-wise mean)\n",
    "'''"
   ]
  },
  {
   "cell_type": "code",
   "execution_count": null,
   "id": "34c2528a-bba6-45d4-89b1-782b5e7ed06a",
   "metadata": {},
   "outputs": [],
   "source": [
    "#16.A What is the role of Bokeh in data visualization\n",
    "'''\n",
    "Role of Bokeh in Data Visualization\n",
    "Bokeh is a Python library designed for creating interactive, web-ready visualizations that are highly flexible and scalable.\n",
    "It is particularly well-suited for handling large datasets and providing dynamic and detailed visual representation of data.\n",
    "\n",
    "Key Roles of Bokeh in Data Visualization\n",
    "1. Interactive Visualizations\n",
    "Bokeh enables the creation of visualizations that allow user interaction, such as:\n",
    "Hover tools: Display tooltips when hovering over data points.\n",
    "Zooming and panning: Allow users to explore specific parts of the visualization.\n",
    "Selection tools: Highlight or filter data interactively.\n",
    "2. Web Integration\n",
    "Bokeh generates visualizations as HTML and JavaScript, making it easy to embed them into web applications.\n",
    "It integrates seamlessly with frameworks like Flask, Django, or standalone web servers.\n",
    "3. Scalable for Large Datasets\n",
    "Bokeh is optimized to handle large datasets efficiently by leveraging its support for rendering visualizations on both the client and server sides.\n",
    "Bokeh Server enables dynamic updates to visualizations in real-time based on user input or streaming data.\n",
    "4. Versatile Plotting Options\n",
    "Bokeh provides a wide variety of plotting tools, such as:\n",
    "Line plots\n",
    "Bar charts\n",
    "Scatter plots\n",
    "Heatmaps\n",
    "Maps with geospatial data\n",
    "Advanced layouts like grid plots or linked plots are also supported.\n",
    "5. High Customizability\n",
    "Bokeh offers extensive customization for:\n",
    "Colors\n",
    "Fonts\n",
    "Legends\n",
    "Axis labels\n",
    "Users can fine-tune nearly every aspect of a plot to meet specific requirements.\n",
    "6. Bridging Python with JavaScript\n",
    "While it is written in Python, Bokeh’s backend translates Python code into JavaScript (using BokehJS), enabling browser-based interactivity without requiring users to write JavaScript directly.\n",
    "7. Integration with Other Tools\n",
    "Bokeh works well with libraries like:\n",
    "Pandas: For preparing data.\n",
    "NumPy: For numerical operations.\n",
    "Jupyter Notebooks: For exploratory data analysis.\n",
    "It also supports embedding plots into dashboards created with tools like Panel or Streamlit.\n",
    "8. Supports Advanced Features\n",
    "Streaming data: Useful for live dashboards.\n",
    "Linked plots: Synchronize interactions across multiple visualizations.\n",
    "Annotations: Add shapes, labels, or callouts to enhance the visual story.\n",
    "\n",
    "'''\n"
   ]
  },
  {
   "cell_type": "code",
   "execution_count": null,
   "id": "ce95ce4e-80aa-42cb-a94a-5551ec33c02e",
   "metadata": {},
   "outputs": [],
   "source": [
    "#17. Explain the difference between apply() and map() in Pandas\n",
    "'''\n",
    "Key Differences Between apply() and map()\n",
    "Aspect\t                 map()\t                      apply()\n",
    "Scope\t            Only for Series\t                Both Series and DataFrames\n",
    "Use Case\t        Element-wise transformation \tGeneral-purpose row/column operations\n",
    "Input Function\t    Simple functions, mappings\t   Complex functions, lambda functions\n",
    "Multi-dimensional\tNot supported\t               Supported (DataFrame operations)\n",
    "'''\n"
   ]
  },
  {
   "cell_type": "code",
   "execution_count": null,
   "id": "6e913d4b-2685-4c96-b000-90a7b4eb125a",
   "metadata": {},
   "outputs": [],
   "source": [
    "#18.What are some advanced features of NumPy\n",
    "'''\n",
    "NumPy provides a range of advanced features that extend beyond basic array operations, enabling efficient computation and data analysis. Here are some of the key advanced features:\n",
    "\n",
    "1. Broadcasting\n",
    "Description: Enables arithmetic operations on arrays of different shapes without explicitly reshaping them.\n",
    "Benefit: Simplifies code and avoids memory overhead from copying data.\n",
    "2. Vectorized Operations\n",
    "Description: Perform element-wise operations without explicit loops, making operations faster and more concise.\n",
    "3. Fancy Indexing\n",
    "Description: Access elements using arrays of indices or boolean masks.\n",
    "4. Structured Arrays\n",
    "Description: Store complex data types with fields similar to a database or Pandas DataFrame.\n",
    "5. Memory Mapping (mmap)\n",
    "Description: Work with large datasets stored on disk without loading them entirely into memory.\n",
    "6. Linear Algebra Operations\n",
    "Description: Built-in module numpy.linalg for performing matrix operations, including inversion, eigenvalue decomposition, and solving linear equations.\n",
    "7.Broadcasting Rules for Higher Dimensions\n",
    "Description: Handles broadcasting across arrays of varying dimensions by aligning axes based on specific rules.\n",
    "\n",
    "'''"
   ]
  },
  {
   "cell_type": "code",
   "execution_count": null,
   "id": "fb070948-8ab0-4e51-94ac-d63ddcf1b808",
   "metadata": {},
   "outputs": [],
   "source": [
    "#19.How does Pandas simplify time series analysis\n",
    "'''\n",
    "Pandas simplifies time series analysis by providing built-in functionality to handle, manipulate, and analyze time-indexed data efficiently. \n",
    "Here's how it achieves this:\n",
    "1. Time-Based Indexing\n",
    "Pandas allows you to use datetime objects as indices, enabling easy filtering and selection of time-based data.\n",
    "Example:\n",
    "import pandas as pd\n",
    "date_range = pd.date_range(start='2023-01-01', end='2023-01-10')\n",
    "data = pd.Series(range(10), index=date_range)\n",
    "filtered = data['2023-01-05':'2023-01-07']\n",
    "# Output: Filtered data for the specified date range\n",
    "2. Flexible Date Ranges\n",
    "Pandas provides convenient tools to generate ranges of dates at various frequencies (daily, weekly, monthly, etc.) using pd.date_range() and pd.timedelta_range().\n",
    "Example:\n",
    "\n",
    "monthly = pd.date_range(start='2023-01-01', periods=6, freq='M')\n",
    "# Output: A series of month-end dates\n",
    "3. Resampling and Frequency Conversion\n",
    "Resampling is a powerful feature to aggregate or interpolate data into different frequencies (e.g., daily to monthly, or vice versa).\n",
    "Example:\n",
    "\n",
    "data = pd.Series([1, 2, 3], index=pd.date_range('2023-01-01', periods=3, freq='D'))\n",
    "monthly = data.resample('M').sum()\n",
    "# Output: Sum of values grouped by month\n",
    "4. Handling Missing Data\n",
    "Time series data often have missing entries. Pandas simplifies filling or interpolating missing values using methods like fillna() or interpolate().\n",
    "Example:\n",
    "\n",
    "data = pd.Series([1, None, 3], index=pd.date_range('2023-01-01', periods=3))\n",
    "filled = data.fillna(method='ffill')\n",
    "# Output: Forward-filled data\n",
    "\n",
    "\n",
    "'''"
   ]
  },
  {
   "cell_type": "code",
   "execution_count": null,
   "id": "c3b0e098-fb68-4ef0-b236-8dfa893f0b03",
   "metadata": {},
   "outputs": [],
   "source": [
    "#20.What is the role of a pivot table in Pandas?\n",
    "'''\n",
    "In Pandas, a pivot table is used for summarizing, aggregating, and reshaping data to analyze relationships between different variables. \n",
    "It is similar to Excel pivot tables and is a powerful tool for organizing data in a tabular format based on categories.\n",
    "\n",
    "Key Roles of a Pivot Table in Pandas\n",
    "1. Summarizing Data\n",
    "A pivot table allows you to aggregate data (e.g., sum, mean, count) across multiple categories or groups.\n",
    "Example: Summing sales data by product and region.\n",
    "\n",
    "import pandas as pd\n",
    "\n",
    "data = {'Product': ['A', 'B', 'A', 'B'],\n",
    "        'Region': ['North', 'North', 'South', 'South'],\n",
    "        'Sales': [100, 200, 150, 300]}\n",
    "df = pd.DataFrame(data)\n",
    "\n",
    "pivot_table = pd.pivot_table(df, values='Sales', index='Region', columns='Product', aggfunc='sum')\n",
    "print(pivot_table)\n",
    "Output:\n",
    "Product       A      B\n",
    "Region                \n",
    "North      100.0  200.0\n",
    "South      150.0  300.0\n",
    "2. Reshaping Data\n",
    "Pivot tables can transform data from long format to a wide format, making it easier to analyze relationships between variables.\n",
    "3. Aggregating with Multiple Functions\n",
    "They support multiple aggregation functions (sum, mean, count, etc.) to analyze data in various ways.\n",
    "Example: Using aggfunc=['sum', 'mean'] for sales data.\n",
    "pivot_table = pd.pivot_table(df, values='Sales', index='Region', columns='Product', aggfunc=['sum', 'mean'])\n",
    "print(pivot_table)\n",
    "4. Grouping Data\n",
    "By specifying index and columns, you can group data hierarchically, enabling multi-level summaries.\n",
    "5. Handling Missing Data\n",
    "Pivot tables provide options to handle missing data using the fill_value parameter, replacing NaN values with a specified value.\n",
    "Example:\n",
    "pivot_table = pd.pivot_table(df, values='Sales', index='Region', columns='Product', aggfunc='sum', fill_value=0)\n",
    "6. Filtering and Slicing Data\n",
    "Pivot tables allow for easy filtering and slicing by specifying indices, columns, or using Boolean conditions.\n",
    "'''"
   ]
  },
  {
   "cell_type": "code",
   "execution_count": null,
   "id": "2a98f9cb-7a94-4956-ad71-eaa05d947c53",
   "metadata": {},
   "outputs": [],
   "source": [
    "#21. Why is NumPy’s array slicing faster than Python’s list slicing\n",
    "'''\n",
    "NumPy's array slicing is faster than Python's list slicing because of the following reasons:\n",
    "\n",
    "1. Memory Contiguity and Data Storage\n",
    "NumPy arrays store data in a contiguous block of memory. This allows slicing operations to create a view of the original data without copying it.\n",
    "Python lists, on the other hand, store elements as pointers to individual objects scattered in memory. Slicing a list involves creating a new list\n",
    "with references to these objects, which is slower.\n",
    "2. Views Instead of Copies\n",
    "When slicing a NumPy array, it does not create a new array but rather a view that references the same underlying data. This avoids the overhead of\n",
    "memory allocation.\n",
    "In Python lists, slicing results in the creation of a new list, which requires copying the elements, making it slower.\n",
    "Example:\n",
    "\n",
    "import numpy as np\n",
    "\n",
    "arr = np.arange(10)\n",
    "sliced_arr = arr[2:7]  # Creates a view\n",
    "\n",
    "lst = list(range(10))\n",
    "sliced_lst = lst[2:7]  # Creates a new list\n",
    "3. Optimized for Numerical Computations\n",
    "NumPy is implemented in C, which is highly optimized for numerical operations, including slicing. Python lists are designed for general-purpose usage and lack such optimizations.\n",
    "This makes NumPy array slicing faster and more efficient, especially for large datasets.\n",
    "4. Data Type Uniformity\n",
    "NumPy arrays store data of a single, fixed type, making element access and manipulation faster.\n",
    "Python lists can hold elements of different types, which adds overhead during slicing as it must handle type checks and dynamic allocations.\n",
    "5. Efficient Indexing\n",
    "NumPy uses advanced indexing techniques that allow for quick access to specific segments of data.\n",
    "Python lists rely on generic indexing mechanisms, which are not optimized for numerical operations.\n",
    "Performance Comparison\n",
    "Here’s an example demonstrating the speed difference:\n",
    "\n",
    "import numpy as np\n",
    "import time\n",
    "\n",
    "# NumPy slicing\n",
    "arr = np.arange(1000000)\n",
    "start = time.time()\n",
    "sliced_arr = arr[100:900000]\n",
    "end = time.time()\n",
    "print(\"NumPy slicing time:\", end - start)\n",
    "\n",
    "# Python list slicing\n",
    "lst = list(range(1000000))\n",
    "start = time.time()\n",
    "sliced_lst = lst[100:900000]\n",
    "end = time.time()\n",
    "print(\"Python list slicing time:\", end - start)\n",
    "Output:\n",
    "\n",
    "less\n",
    "\n",
    "NumPy slicing time: ~0.0x seconds\n",
    "Python list slicing time: ~0.0y seconds (much slower)\n",
    "Conclusion\n",
    "The primary reasons for NumPy’s faster slicing are:\n",
    "\n",
    "Memory-efficient views instead of copies.\n",
    "Contiguous memory storage.\n",
    "Optimized C-based implementation.\n",
    "Homogeneous data types allowing for streamlined operations.\n",
    "These factors make NumPy the preferred choice for large-scale numerical computations.\n",
    "'''"
   ]
  },
  {
   "cell_type": "code",
   "execution_count": null,
   "id": "54d459c3-5573-4b89-a970-964988527506",
   "metadata": {},
   "outputs": [],
   "source": [
    "#22.What are some common use cases for Seaborn?\n",
    "'''\n",
    "Seaborn is a powerful Python library built on Matplotlib that simplifies the creation of complex statistical visualizations. Its intuitive syntax\n",
    "and built-in themes make it ideal for exploring and visualizing data. Here are some common use cases for Seaborn:\n",
    "\n",
    "1. Visualizing Distributions\n",
    "Seaborn excels in displaying distributions of data, making it easy to analyze spread, skewness, and outliers.\n",
    "\n",
    "Histogram and Kernel Density Estimation (KDE):\n",
    "sns.histplot() or sns.kdeplot() for visualizing the frequency distribution of data.\n",
    "Boxplot and Violin Plot:\n",
    "sns.boxplot() or sns.violinplot() to identify outliers, medians, and data spread.\n",
    "Example:\n",
    "import seaborn as sns\n",
    "import matplotlib.pyplot as plt\n",
    "\n",
    "sns.histplot(data=[1, 2, 2, 3, 3, 3, 4], kde=True)\n",
    "plt.show()\n",
    "2. Exploring Relationships Between Variables\n",
    "Seaborn provides tools to visualize relationships between two or more variables.\n",
    "\n",
    "Scatterplots:\n",
    "sns.scatterplot() to analyze correlations or clustering.\n",
    "Lineplots:\n",
    "sns.lineplot() for time series or trend analysis.\n",
    "Pairplots:\n",
    "sns.pairplot() to visualize pairwise relationships across multiple variables.\n",
    "3. Categorical Data Visualization\n",
    "Seaborn is highly effective for visualizing data grouped by categories.\n",
    "\n",
    "Bar Plots:\n",
    "sns.barplot() for aggregated summaries of categorical data.\n",
    "Count Plots:\n",
    "sns.countplot() to show counts for each category.\n",
    "Strip and Swarm Plots:\n",
    "sns.stripplot() or sns.swarmplot() for visualizing data points in categories.\n",
    "4. Heatmaps\n",
    "Seaborn simplifies the creation of heatmaps for correlation matrices or hierarchical clustering.\n",
    "\n",
    "Correlation Heatmap:\n",
    "sns.heatmap() to visualize correlations between variables.\n",
    "Example:\n",
    "import pandas as pd\n",
    "import numpy as np\n",
    "\n",
    "data = np.random.rand(5, 5)\n",
    "sns.heatmap(data, annot=True)\n",
    "plt.show()\n",
    "5. Statistical Analysis\n",
    "Seaborn integrates well with statistical libraries like SciPy, enabling statistical comparisons.\n",
    "\n",
    "Regression Plots:\n",
    "sns.regplot() or sns.lmplot() for linear regression and trend analysis.\n",
    "Facet Grids:\n",
    "sns.FacetGrid() to visualize distributions across subsets of data.\n",
    "6. Customizing Plot Aesthetics\n",
    "Seaborn’s themes enhance plot appearance with minimal code.\n",
    "\n",
    "Themes: Use sns.set_theme() to switch to predefined styles like \"darkgrid\" or \"whitegrid.\"\n",
    "Color Palettes: Customize color palettes for plots using sns.color_palette().\n",
    "7. Time Series Analysis\n",
    "Seaborn simplifies the visualization of time-series data using line plots and confidence intervals.\n",
    "\n",
    "Example: Visualizing stock prices or temperature trends.\n",
    "8. Highlighting Data Insights\n",
    "Seaborn plots can be annotated to highlight key trends or anomalies, combining aesthetics with clarity for presentations.\n",
    "9. Handling Complex Data\n",
    "Seaborn’s ability to aggregate and visualize grouped data makes it invaluable for datasets with multiple dimensions, such as customer analytics or \n",
    "scientific experiments.\n",
    "10. Comparing Data Distributions\n",
    "Tools like sns.boxplot() and sns.violinplot() are perfect for comparing multiple distributions, such as sales across regions or product performance\n",
    "metrics.\n",
    "\n",
    "'''"
   ]
  },
  {
   "cell_type": "code",
   "execution_count": null,
   "id": "26e8126c-2675-4cc2-9ba2-9279250bc670",
   "metadata": {},
   "outputs": [],
   "source": [
    "#                                          PRACTICAL QUESTION"
   ]
  },
  {
   "cell_type": "code",
   "execution_count": 1,
   "id": "b6c719bb-e9d8-4bf2-adf9-803430565599",
   "metadata": {},
   "outputs": [
    {
     "name": "stdout",
     "output_type": "stream",
     "text": [
      "2D Array:\n",
      "[[1 2 3]\n",
      " [4 5 6]\n",
      " [7 8 9]]\n",
      "Sum of each row: [ 6 15 24]\n"
     ]
    }
   ],
   "source": [
    "#1. How do you create a 2D NumPy array and calculate the sum of each row\n",
    "import numpy as np\n",
    "\n",
    "# Create a 2D NumPy array and calculate the sum of each row\n",
    "array_2d = np.array([[1, 2, 3], [4, 5, 6], [7, 8, 9]])\n",
    "row_sums = np.sum(array_2d, axis=1)\n",
    "\n",
    "print(\"2D Array:\")\n",
    "print(array_2d)\n",
    "print(\"Sum of each row:\", row_sums)\n",
    "\n"
   ]
  },
  {
   "cell_type": "code",
   "execution_count": 2,
   "id": "6d7d0cfd-c4ce-4d86-a790-7aa72b30cc07",
   "metadata": {},
   "outputs": [
    {
     "name": "stdout",
     "output_type": "stream",
     "text": [
      "Mean of the 'Age' column: 37.2\n"
     ]
    }
   ],
   "source": [
    "#2.Write a Pandas script to find the mean of a specific column in a DataFrame\n",
    "import pandas as pd\n",
    "\n",
    "# Create a sample DataFrame with Indian names, including 'PW Skill'\n",
    "data = {'Name': ['Aarav', 'Ishaan', 'Saanvi', 'Diya', 'PW Skill'],\n",
    "        'Age': [23, 35, 45, 33, 50],\n",
    "        'Salary': [70000, 80000, 120000, 90000, 110000]}\n",
    "\n",
    "df = pd.DataFrame(data)\n",
    "\n",
    "# Find the mean of a specific column (e.g., 'Age')\n",
    "mean_age = df['Age'].mean()\n",
    "\n",
    "print(\"Mean of the 'Age' column:\", mean_age)\n"
   ]
  },
  {
   "cell_type": "code",
   "execution_count": 3,
   "id": "3ec0f8c6-f638-465c-8ac1-ee46943ba7ea",
   "metadata": {},
   "outputs": [
    {
     "data": {
      "image/png": "[encoded data removed]",
      "text/plain": [
       "<Figure size 640x480 with 1 Axes>"
      ]
     },
     "metadata": {},
     "output_type": "display_data"
    }
   ],
   "source": [
    "#3.Create a scatter plot using Matplotlib\n",
    "import matplotlib.pyplot as plt\n",
    "\n",
    "# Data for the scatter plot\n",
    "x = [1, 2, 3, 4, 5]\n",
    "y = [2, 4, 6, 8, 10]\n",
    "\n",
    "# Create the scatter plot\n",
    "plt.scatter(x, y)\n",
    "\n",
    "# Adding title and labels\n",
    "plt.title('Simple Scatter Plot')\n",
    "plt.xlabel('X-axis')\n",
    "plt.ylabel('Y-axis')\n",
    "\n",
    "# Show the plot\n",
    "plt.show()\n"
   ]
  },
  {
   "cell_type": "code",
   "execution_count": 4,
   "id": "ca1f8c10-03d1-4d4b-8b44-5651f1091fdb",
   "metadata": {},
   "outputs": [
    {
     "data": {
      "image/png": "[encoded data removed]",
      "text/plain": [
       "<Figure size 800x600 with 2 Axes>"
      ]
     },
     "metadata": {},
     "output_type": "display_data"
    }
   ],
   "source": [
    "#4.How do you calculate the correlation matrix using Seaborn and visualize it with a heatmap\n",
    "import pandas as pd\n",
    "import seaborn as sns\n",
    "import matplotlib.pyplot as plt\n",
    "\n",
    "# Create a sample DataFrame\n",
    "data = {'A': [1, 2, 3, 4, 5],\n",
    "        'B': [5, 4, 3, 2, 1],\n",
    "        'C': [1, 3, 5, 7, 9],\n",
    "        'D': [9, 7, 5, 3, 1]}\n",
    "\n",
    "df = pd.DataFrame(data)\n",
    "\n",
    "# Calculate the correlation matrix\n",
    "corr_matrix = df.corr()\n",
    "\n",
    "# Create a heatmap using Seaborn\n",
    "plt.figure(figsize=(8, 6))  # Optional: adjust the size of the heatmap\n",
    "sns.heatmap(corr_matrix, annot=True, cmap='coolwarm', fmt='.2f', linewidths=0.5)\n",
    "\n",
    "# Adding title\n",
    "plt.title('Correlation Matrix Heatmap')\n",
    "\n",
    "# Show the plot\n",
    "plt.show()\n"
   ]
  },
  {
   "cell_type": "code",
   "execution_count": 8,
   "id": "28f05582-2646-4e1b-a530-a2105ebfc1de",
   "metadata": {},
   "outputs": [
    {
     "data": {
      "application/vnd.plotly.v1+json": {
       "config": {
        "plotlyServerURL": "https://plot.ly"
       },
       "data": [
        {
         "alignmentgroup": "True",
         "hovertemplate": "Category=%{x}<br>Value=%{y}<extra></extra>",
         "legendgroup": "",
         "marker": {
          "color": "#636efa",
          "pattern": {
           "shape": ""
          }
         },
         "name": "",
         "offsetgroup": "",
         "orientation": "v",
         "showlegend": false,
         "textposition": "auto",
         "type": "bar",
         "x": [
          "A",
          "B",
          "C",
          "D"
         ],
         "xaxis": "x",
         "y": [
          10,
          15,
          7,
          20
         ],
         "yaxis": "y"
        }
       ],
       "layout": {
        "autosize": true,
        "barmode": "relative",
        "legend": {
         "tracegroupgap": 0
        },
        "template": {
         "data": {
          "bar": [
           {
            "error_x": {
             "color": "#2a3f5f"
            },
            "error_y": {
             "color": "#2a3f5f"
            },
            "marker": {
             "line": {
              "color": "#E5ECF6",
              "width": 0.5
             },
             "pattern": {
              "fillmode": "overlay",
              "size": 10,
              "solidity": 0.2
             }
            },
            "type": "bar"
           }
          ],
          "barpolar": [
           {
            "marker": {
             "line": {
              "color": "#E5ECF6",
              "width": 0.5
             },
             "pattern": {
              "fillmode": "overlay",
              "size": 10,
              "solidity": 0.2
             }
            },
            "type": "barpolar"
           }
          ],
          "carpet": [
           {
            "aaxis": {
             "endlinecolor": "#2a3f5f",
             "gridcolor": "white",
             "linecolor": "white",
             "minorgridcolor": "white",
             "startlinecolor": "#2a3f5f"
            },
            "baxis": {
             "endlinecolor": "#2a3f5f",
             "gridcolor": "white",
             "linecolor": "white",
             "minorgridcolor": "white",
             "startlinecolor": "#2a3f5f"
            },
            "type": "carpet"
           }
          ],
          "choropleth": [
           {
            "colorbar": {
             "outlinewidth": 0,
             "ticks": ""
            },
            "type": "choropleth"
           }
          ],
          "contour": [
           {
            "colorbar": {
             "outlinewidth": 0,
             "ticks": ""
            },
            "colorscale": [
             [
              0,
              "#0d0887"
             ],
             [
              0.1111111111111111,
              "#46039f"
             ],
             [
              0.2222222222222222,
              "#7201a8"
             ],
             [
              0.3333333333333333,
              "#9c179e"
             ],
             [
              0.4444444444444444,
              "#bd3786"
             ],
             [
              0.5555555555555556,
              "#d8576b"
             ],
             [
              0.6666666666666666,
              "#ed7953"
             ],
             [
              0.7777777777777778,
              "#fb9f3a"
             ],
             [
              0.8888888888888888,
              "#fdca26"
             ],
             [
              1,
              "#f0f921"
             ]
            ],
            "type": "contour"
           }
          ],
          "contourcarpet": [
           {
            "colorbar": {
             "outlinewidth": 0,
             "ticks": ""
            },
            "type": "contourcarpet"
           }
          ],
          "heatmap": [
           {
            "colorbar": {
             "outlinewidth": 0,
             "ticks": ""
            },
            "colorscale": [
             [
              0,
              "#0d0887"
             ],
             [
              0.1111111111111111,
              "#46039f"
             ],
             [
              0.2222222222222222,
              "#7201a8"
             ],
             [
              0.3333333333333333,
              "#9c179e"
             ],
             [
              0.4444444444444444,
              "#bd3786"
             ],
             [
              0.5555555555555556,
              "#d8576b"
             ],
             [
              0.6666666666666666,
              "#ed7953"
             ],
             [
              0.7777777777777778,
              "#fb9f3a"
             ],
             [
              0.8888888888888888,
              "#fdca26"
             ],
             [
              1,
              "#f0f921"
             ]
            ],
            "type": "heatmap"
           }
          ],
          "heatmapgl": [
           {
            "colorbar": {
             "outlinewidth": 0,
             "ticks": ""
            },
            "colorscale": [
             [
              0,
              "#0d0887"
             ],
             [
              0.1111111111111111,
              "#46039f"
             ],
             [
              0.2222222222222222,
              "#7201a8"
             ],
             [
              0.3333333333333333,
              "#9c179e"
             ],
             [
              0.4444444444444444,
              "#bd3786"
             ],
             [
              0.5555555555555556,
              "#d8576b"
             ],
             [
              0.6666666666666666,
              "#ed7953"
             ],
             [
              0.7777777777777778,
              "#fb9f3a"
             ],
             [
              0.8888888888888888,
              "#fdca26"
             ],
             [
              1,
              "#f0f921"
             ]
            ],
            "type": "heatmapgl"
           }
          ],
          "histogram": [
           {
            "marker": {
             "pattern": {
              "fillmode": "overlay",
              "size": 10,
              "solidity": 0.2
             }
            },
            "type": "histogram"
           }
          ],
          "histogram2d": [
           {
            "colorbar": {
             "outlinewidth": 0,
             "ticks": ""
            },
            "colorscale": [
             [
              0,
              "#0d0887"
             ],
             [
              0.1111111111111111,
              "#46039f"
             ],
             [
              0.2222222222222222,
              "#7201a8"
             ],
             [
              0.3333333333333333,
              "#9c179e"
             ],
             [
              0.4444444444444444,
              "#bd3786"
             ],
             [
              0.5555555555555556,
              "#d8576b"
             ],
             [
              0.6666666666666666,
              "#ed7953"
             ],
             [
              0.7777777777777778,
              "#fb9f3a"
             ],
             [
              0.8888888888888888,
              "#fdca26"
             ],
             [
              1,
              "#f0f921"
             ]
            ],
            "type": "histogram2d"
           }
          ],
          "histogram2dcontour": [
           {
            "colorbar": {
             "outlinewidth": 0,
             "ticks": ""
            },
            "colorscale": [
             [
              0,
              "#0d0887"
             ],
             [
              0.1111111111111111,
              "#46039f"
             ],
             [
              0.2222222222222222,
              "#7201a8"
             ],
             [
              0.3333333333333333,
              "#9c179e"
             ],
             [
              0.4444444444444444,
              "#bd3786"
             ],
             [
              0.5555555555555556,
              "#d8576b"
             ],
             [
              0.6666666666666666,
              "#ed7953"
             ],
             [
              0.7777777777777778,
              "#fb9f3a"
             ],
             [
              0.8888888888888888,
              "#fdca26"
             ],
             [
              1,
              "#f0f921"
             ]
            ],
            "type": "histogram2dcontour"
           }
          ],
          "mesh3d": [
           {
            "colorbar": {
             "outlinewidth": 0,
             "ticks": ""
            },
            "type": "mesh3d"
           }
          ],
          "parcoords": [
           {
            "line": {
             "colorbar": {
              "outlinewidth": 0,
              "ticks": ""
             }
            },
            "type": "parcoords"
           }
          ],
          "pie": [
           {
            "automargin": true,
            "type": "pie"
           }
          ],
          "scatter": [
           {
            "fillpattern": {
             "fillmode": "overlay",
             "size": 10,
             "solidity": 0.2
            },
            "type": "scatter"
           }
          ],
          "scatter3d": [
           {
            "line": {
             "colorbar": {
              "outlinewidth": 0,
              "ticks": ""
             }
            },
            "marker": {
             "colorbar": {
              "outlinewidth": 0,
              "ticks": ""
             }
            },
            "type": "scatter3d"
           }
          ],
          "scattercarpet": [
           {
            "marker": {
             "colorbar": {
              "outlinewidth": 0,
              "ticks": ""
             }
            },
            "type": "scattercarpet"
           }
          ],
          "scattergeo": [
           {
            "marker": {
             "colorbar": {
              "outlinewidth": 0,
              "ticks": ""
             }
            },
            "type": "scattergeo"
           }
          ],
          "scattergl": [
           {
            "marker": {
             "colorbar": {
              "outlinewidth": 0,
              "ticks": ""
             }
            },
            "type": "scattergl"
           }
          ],
          "scattermapbox": [
           {
            "marker": {
             "colorbar": {
              "outlinewidth": 0,
              "ticks": ""
             }
            },
            "type": "scattermapbox"
           }
          ],
          "scatterpolar": [
           {
            "marker": {
             "colorbar": {
              "outlinewidth": 0,
              "ticks": ""
             }
            },
            "type": "scatterpolar"
           }
          ],
          "scatterpolargl": [
           {
            "marker": {
             "colorbar": {
              "outlinewidth": 0,
              "ticks": ""
             }
            },
            "type": "scatterpolargl"
           }
          ],
          "scatterternary": [
           {
            "marker": {
             "colorbar": {
              "outlinewidth": 0,
              "ticks": ""
             }
            },
            "type": "scatterternary"
           }
          ],
          "surface": [
           {
            "colorbar": {
             "outlinewidth": 0,
             "ticks": ""
            },
            "colorscale": [
             [
              0,
              "#0d0887"
             ],
             [
              0.1111111111111111,
              "#46039f"
             ],
             [
              0.2222222222222222,
              "#7201a8"
             ],
             [
              0.3333333333333333,
              "#9c179e"
             ],
             [
              0.4444444444444444,
              "#bd3786"
             ],
             [
              0.5555555555555556,
              "#d8576b"
             ],
             [
              0.6666666666666666,
              "#ed7953"
             ],
             [
              0.7777777777777778,
              "#fb9f3a"
             ],
             [
              0.8888888888888888,
              "#fdca26"
             ],
             [
              1,
              "#f0f921"
             ]
            ],
            "type": "surface"
           }
          ],
          "table": [
           {
            "cells": {
             "fill": {
              "color": "#EBF0F8"
             },
             "line": {
              "color": "white"
             }
            },
            "header": {
             "fill": {
              "color": "#C8D4E3"
             },
             "line": {
              "color": "white"
             }
            },
            "type": "table"
           }
          ]
         },
         "layout": {
          "annotationdefaults": {
           "arrowcolor": "#2a3f5f",
           "arrowhead": 0,
           "arrowwidth": 1
          },
          "autotypenumbers": "strict",
          "coloraxis": {
           "colorbar": {
            "outlinewidth": 0,
            "ticks": ""
           }
          },
          "colorscale": {
           "diverging": [
            [
             0,
             "#8e0152"
            ],
            [
             0.1,
             "#c51b7d"
            ],
            [
             0.2,
             "#de77ae"
            ],
            [
             0.3,
             "#f1b6da"
            ],
            [
             0.4,
             "#fde0ef"
            ],
            [
             0.5,
             "#f7f7f7"
            ],
            [
             0.6,
             "#e6f5d0"
            ],
            [
             0.7,
             "#b8e186"
            ],
            [
             0.8,
             "#7fbc41"
            ],
            [
             0.9,
             "#4d9221"
            ],
            [
             1,
             "#276419"
            ]
           ],
           "sequential": [
            [
             0,
             "#0d0887"
            ],
            [
             0.1111111111111111,
             "#46039f"
            ],
            [
             0.2222222222222222,
             "#7201a8"
            ],
            [
             0.3333333333333333,
             "#9c179e"
            ],
            [
             0.4444444444444444,
             "#bd3786"
            ],
            [
             0.5555555555555556,
             "#d8576b"
            ],
            [
             0.6666666666666666,
             "#ed7953"
            ],
            [
             0.7777777777777778,
             "#fb9f3a"
            ],
            [
             0.8888888888888888,
             "#fdca26"
            ],
            [
             1,
             "#f0f921"
            ]
           ],
           "sequentialminus": [
            [
             0,
             "#0d0887"
            ],
            [
             0.1111111111111111,
             "#46039f"
            ],
            [
             0.2222222222222222,
             "#7201a8"
            ],
            [
             0.3333333333333333,
             "#9c179e"
            ],
            [
             0.4444444444444444,
             "#bd3786"
            ],
            [
             0.5555555555555556,
             "#d8576b"
            ],
            [
             0.6666666666666666,
             "#ed7953"
            ],
            [
             0.7777777777777778,
             "#fb9f3a"
            ],
            [
             0.8888888888888888,
             "#fdca26"
            ],
            [
             1,
             "#f0f921"
            ]
           ]
          },
          "colorway": [
           "#636efa",
           "#EF553B",
           "#00cc96",
           "#ab63fa",
           "#FFA15A",
           "#19d3f3",
           "#FF6692",
           "#B6E880",
           "#FF97FF",
           "#FECB52"
          ],
          "font": {
           "color": "#2a3f5f"
          },
          "geo": {
           "bgcolor": "white",
           "lakecolor": "white",
           "landcolor": "#E5ECF6",
           "showlakes": true,
           "showland": true,
           "subunitcolor": "white"
          },
          "hoverlabel": {
           "align": "left"
          },
          "hovermode": "closest",
          "mapbox": {
           "style": "light"
          },
          "paper_bgcolor": "white",
          "plot_bgcolor": "#E5ECF6",
          "polar": {
           "angularaxis": {
            "gridcolor": "white",
            "linecolor": "white",
            "ticks": ""
           },
           "bgcolor": "#E5ECF6",
           "radialaxis": {
            "gridcolor": "white",
            "linecolor": "white",
            "ticks": ""
           }
          },
          "scene": {
           "xaxis": {
            "backgroundcolor": "#E5ECF6",
            "gridcolor": "white",
            "gridwidth": 2,
            "linecolor": "white",
            "showbackground": true,
            "ticks": "",
            "zerolinecolor": "white"
           },
           "yaxis": {
            "backgroundcolor": "#E5ECF6",
            "gridcolor": "white",
            "gridwidth": 2,
            "linecolor": "white",
            "showbackground": true,
            "ticks": "",
            "zerolinecolor": "white"
           },
           "zaxis": {
            "backgroundcolor": "#E5ECF6",
            "gridcolor": "white",
            "gridwidth": 2,
            "linecolor": "white",
            "showbackground": true,
            "ticks": "",
            "zerolinecolor": "white"
           }
          },
          "shapedefaults": {
           "line": {
            "color": "#2a3f5f"
           }
          },
          "ternary": {
           "aaxis": {
            "gridcolor": "white",
            "linecolor": "white",
            "ticks": ""
           },
           "baxis": {
            "gridcolor": "white",
            "linecolor": "white",
            "ticks": ""
           },
           "bgcolor": "#E5ECF6",
           "caxis": {
            "gridcolor": "white",
            "linecolor": "white",
            "ticks": ""
           }
          },
          "title": {
           "x": 0.05
          },
          "xaxis": {
           "automargin": true,
           "gridcolor": "white",
           "linecolor": "white",
           "ticks": "",
           "title": {
            "standoff": 15
           },
           "zerolinecolor": "white",
           "zerolinewidth": 2
          },
          "yaxis": {
           "automargin": true,
           "gridcolor": "white",
           "linecolor": "white",
           "ticks": "",
           "title": {
            "standoff": 15
           },
           "zerolinecolor": "white",
           "zerolinewidth": 2
          }
         }
        },
        "title": {
         "text": "Simple Bar Plot"
        },
        "xaxis": {
         "anchor": "y",
         "autorange": true,
         "domain": [
          0,
          1
         ],
         "range": [
          -0.5,
          3.5
         ],
         "title": {
          "text": "Category"
         },
         "type": "category"
        },
        "yaxis": {
         "anchor": "x",
         "autorange": true,
         "domain": [
          0,
          1
         ],
         "range": [
          0,
          21.05263157894737
         ],
         "title": {
          "text": "Value"
         },
         "type": "linear"
        }
       }
      },
      "image/png": "[encoded data removed]",
      "text/html": [
       "<div>                            <div id=\"788151e3-654a-46f0-8572-6e40f284e603\" class=\"plotly-graph-div\" style=\"height:525px; width:100%;\"></div>            <script type=\"text/javascript\">                require([\"plotly\"], function(Plotly) {                    window.PLOTLYENV=window.PLOTLYENV || {};                                    if (document.getElementById(\"788151e3-654a-46f0-8572-6e40f284e603\")) {                    Plotly.newPlot(                        \"788151e3-654a-46f0-8572-6e40f284e603\",                        [{\"alignmentgroup\":\"True\",\"hovertemplate\":\"Category=%{x}\\u003cbr\\u003eValue=%{y}\\u003cextra\\u003e\\u003c\\u002fextra\\u003e\",\"legendgroup\":\"\",\"marker\":{\"color\":\"#636efa\",\"pattern\":{\"shape\":\"\"}},\"name\":\"\",\"offsetgroup\":\"\",\"orientation\":\"v\",\"showlegend\":false,\"textposition\":\"auto\",\"x\":[\"A\",\"B\",\"C\",\"D\"],\"xaxis\":\"x\",\"y\":[10,15,7,20],\"yaxis\":\"y\",\"type\":\"bar\"}],                        {\"template\":{\"data\":{\"histogram2dcontour\":[{\"type\":\"histogram2dcontour\",\"colorbar\":{\"outlinewidth\":0,\"ticks\":\"\"},\"colorscale\":[[0.0,\"#0d0887\"],[0.1111111111111111,\"#46039f\"],[0.2222222222222222,\"#7201a8\"],[0.3333333333333333,\"#9c179e\"],[0.4444444444444444,\"#bd3786\"],[0.5555555555555556,\"#d8576b\"],[0.6666666666666666,\"#ed7953\"],[0.7777777777777778,\"#fb9f3a\"],[0.8888888888888888,\"#fdca26\"],[1.0,\"#f0f921\"]]}],\"choropleth\":[{\"type\":\"choropleth\",\"colorbar\":{\"outlinewidth\":0,\"ticks\":\"\"}}],\"histogram2d\":[{\"type\":\"histogram2d\",\"colorbar\":{\"outlinewidth\":0,\"ticks\":\"\"},\"colorscale\":[[0.0,\"#0d0887\"],[0.1111111111111111,\"#46039f\"],[0.2222222222222222,\"#7201a8\"],[0.3333333333333333,\"#9c179e\"],[0.4444444444444444,\"#bd3786\"],[0.5555555555555556,\"#d8576b\"],[0.6666666666666666,\"#ed7953\"],[0.7777777777777778,\"#fb9f3a\"],[0.8888888888888888,\"#fdca26\"],[1.0,\"#f0f921\"]]}],\"heatmap\":[{\"type\":\"heatmap\",\"colorbar\":{\"outlinewidth\":0,\"ticks\":\"\"},\"colorscale\":[[0.0,\"#0d0887\"],[0.1111111111111111,\"#46039f\"],[0.2222222222222222,\"#7201a8\"],[0.3333333333333333,\"#9c179e\"],[0.4444444444444444,\"#bd3786\"],[0.5555555555555556,\"#d8576b\"],[0.6666666666666666,\"#ed7953\"],[0.7777777777777778,\"#fb9f3a\"],[0.8888888888888888,\"#fdca26\"],[1.0,\"#f0f921\"]]}],\"heatmapgl\":[{\"type\":\"heatmapgl\",\"colorbar\":{\"outlinewidth\":0,\"ticks\":\"\"},\"colorscale\":[[0.0,\"#0d0887\"],[0.1111111111111111,\"#46039f\"],[0.2222222222222222,\"#7201a8\"],[0.3333333333333333,\"#9c179e\"],[0.4444444444444444,\"#bd3786\"],[0.5555555555555556,\"#d8576b\"],[0.6666666666666666,\"#ed7953\"],[0.7777777777777778,\"#fb9f3a\"],[0.8888888888888888,\"#fdca26\"],[1.0,\"#f0f921\"]]}],\"contourcarpet\":[{\"type\":\"contourcarpet\",\"colorbar\":{\"outlinewidth\":0,\"ticks\":\"\"}}],\"contour\":[{\"type\":\"contour\",\"colorbar\":{\"outlinewidth\":0,\"ticks\":\"\"},\"colorscale\":[[0.0,\"#0d0887\"],[0.1111111111111111,\"#46039f\"],[0.2222222222222222,\"#7201a8\"],[0.3333333333333333,\"#9c179e\"],[0.4444444444444444,\"#bd3786\"],[0.5555555555555556,\"#d8576b\"],[0.6666666666666666,\"#ed7953\"],[0.7777777777777778,\"#fb9f3a\"],[0.8888888888888888,\"#fdca26\"],[1.0,\"#f0f921\"]]}],\"surface\":[{\"type\":\"surface\",\"colorbar\":{\"outlinewidth\":0,\"ticks\":\"\"},\"colorscale\":[[0.0,\"#0d0887\"],[0.1111111111111111,\"#46039f\"],[0.2222222222222222,\"#7201a8\"],[0.3333333333333333,\"#9c179e\"],[0.4444444444444444,\"#bd3786\"],[0.5555555555555556,\"#d8576b\"],[0.6666666666666666,\"#ed7953\"],[0.7777777777777778,\"#fb9f3a\"],[0.8888888888888888,\"#fdca26\"],[1.0,\"#f0f921\"]]}],\"mesh3d\":[{\"type\":\"mesh3d\",\"colorbar\":{\"outlinewidth\":0,\"ticks\":\"\"}}],\"scatter\":[{\"fillpattern\":{\"fillmode\":\"overlay\",\"size\":10,\"solidity\":0.2},\"type\":\"scatter\"}],\"parcoords\":[{\"type\":\"parcoords\",\"line\":{\"colorbar\":{\"outlinewidth\":0,\"ticks\":\"\"}}}],\"scatterpolargl\":[{\"type\":\"scatterpolargl\",\"marker\":{\"colorbar\":{\"outlinewidth\":0,\"ticks\":\"\"}}}],\"bar\":[{\"error_x\":{\"color\":\"#2a3f5f\"},\"error_y\":{\"color\":\"#2a3f5f\"},\"marker\":{\"line\":{\"color\":\"#E5ECF6\",\"width\":0.5},\"pattern\":{\"fillmode\":\"overlay\",\"size\":10,\"solidity\":0.2}},\"type\":\"bar\"}],\"scattergeo\":[{\"type\":\"scattergeo\",\"marker\":{\"colorbar\":{\"outlinewidth\":0,\"ticks\":\"\"}}}],\"scatterpolar\":[{\"type\":\"scatterpolar\",\"marker\":{\"colorbar\":{\"outlinewidth\":0,\"ticks\":\"\"}}}],\"histogram\":[{\"marker\":{\"pattern\":{\"fillmode\":\"overlay\",\"size\":10,\"solidity\":0.2}},\"type\":\"histogram\"}],\"scattergl\":[{\"type\":\"scattergl\",\"marker\":{\"colorbar\":{\"outlinewidth\":0,\"ticks\":\"\"}}}],\"scatter3d\":[{\"type\":\"scatter3d\",\"line\":{\"colorbar\":{\"outlinewidth\":0,\"ticks\":\"\"}},\"marker\":{\"colorbar\":{\"outlinewidth\":0,\"ticks\":\"\"}}}],\"scattermapbox\":[{\"type\":\"scattermapbox\",\"marker\":{\"colorbar\":{\"outlinewidth\":0,\"ticks\":\"\"}}}],\"scatterternary\":[{\"type\":\"scatterternary\",\"marker\":{\"colorbar\":{\"outlinewidth\":0,\"ticks\":\"\"}}}],\"scattercarpet\":[{\"type\":\"scattercarpet\",\"marker\":{\"colorbar\":{\"outlinewidth\":0,\"ticks\":\"\"}}}],\"carpet\":[{\"aaxis\":{\"endlinecolor\":\"#2a3f5f\",\"gridcolor\":\"white\",\"linecolor\":\"white\",\"minorgridcolor\":\"white\",\"startlinecolor\":\"#2a3f5f\"},\"baxis\":{\"endlinecolor\":\"#2a3f5f\",\"gridcolor\":\"white\",\"linecolor\":\"white\",\"minorgridcolor\":\"white\",\"startlinecolor\":\"#2a3f5f\"},\"type\":\"carpet\"}],\"table\":[{\"cells\":{\"fill\":{\"color\":\"#EBF0F8\"},\"line\":{\"color\":\"white\"}},\"header\":{\"fill\":{\"color\":\"#C8D4E3\"},\"line\":{\"color\":\"white\"}},\"type\":\"table\"}],\"barpolar\":[{\"marker\":{\"line\":{\"color\":\"#E5ECF6\",\"width\":0.5},\"pattern\":{\"fillmode\":\"overlay\",\"size\":10,\"solidity\":0.2}},\"type\":\"barpolar\"}],\"pie\":[{\"automargin\":true,\"type\":\"pie\"}]},\"layout\":{\"autotypenumbers\":\"strict\",\"colorway\":[\"#636efa\",\"#EF553B\",\"#00cc96\",\"#ab63fa\",\"#FFA15A\",\"#19d3f3\",\"#FF6692\",\"#B6E880\",\"#FF97FF\",\"#FECB52\"],\"font\":{\"color\":\"#2a3f5f\"},\"hovermode\":\"closest\",\"hoverlabel\":{\"align\":\"left\"},\"paper_bgcolor\":\"white\",\"plot_bgcolor\":\"#E5ECF6\",\"polar\":{\"bgcolor\":\"#E5ECF6\",\"angularaxis\":{\"gridcolor\":\"white\",\"linecolor\":\"white\",\"ticks\":\"\"},\"radialaxis\":{\"gridcolor\":\"white\",\"linecolor\":\"white\",\"ticks\":\"\"}},\"ternary\":{\"bgcolor\":\"#E5ECF6\",\"aaxis\":{\"gridcolor\":\"white\",\"linecolor\":\"white\",\"ticks\":\"\"},\"baxis\":{\"gridcolor\":\"white\",\"linecolor\":\"white\",\"ticks\":\"\"},\"caxis\":{\"gridcolor\":\"white\",\"linecolor\":\"white\",\"ticks\":\"\"}},\"coloraxis\":{\"colorbar\":{\"outlinewidth\":0,\"ticks\":\"\"}},\"colorscale\":{\"sequential\":[[0.0,\"#0d0887\"],[0.1111111111111111,\"#46039f\"],[0.2222222222222222,\"#7201a8\"],[0.3333333333333333,\"#9c179e\"],[0.4444444444444444,\"#bd3786\"],[0.5555555555555556,\"#d8576b\"],[0.6666666666666666,\"#ed7953\"],[0.7777777777777778,\"#fb9f3a\"],[0.8888888888888888,\"#fdca26\"],[1.0,\"#f0f921\"]],\"sequentialminus\":[[0.0,\"#0d0887\"],[0.1111111111111111,\"#46039f\"],[0.2222222222222222,\"#7201a8\"],[0.3333333333333333,\"#9c179e\"],[0.4444444444444444,\"#bd3786\"],[0.5555555555555556,\"#d8576b\"],[0.6666666666666666,\"#ed7953\"],[0.7777777777777778,\"#fb9f3a\"],[0.8888888888888888,\"#fdca26\"],[1.0,\"#f0f921\"]],\"diverging\":[[0,\"#8e0152\"],[0.1,\"#c51b7d\"],[0.2,\"#de77ae\"],[0.3,\"#f1b6da\"],[0.4,\"#fde0ef\"],[0.5,\"#f7f7f7\"],[0.6,\"#e6f5d0\"],[0.7,\"#b8e186\"],[0.8,\"#7fbc41\"],[0.9,\"#4d9221\"],[1,\"#276419\"]]},\"xaxis\":{\"gridcolor\":\"white\",\"linecolor\":\"white\",\"ticks\":\"\",\"title\":{\"standoff\":15},\"zerolinecolor\":\"white\",\"automargin\":true,\"zerolinewidth\":2},\"yaxis\":{\"gridcolor\":\"white\",\"linecolor\":\"white\",\"ticks\":\"\",\"title\":{\"standoff\":15},\"zerolinecolor\":\"white\",\"automargin\":true,\"zerolinewidth\":2},\"scene\":{\"xaxis\":{\"backgroundcolor\":\"#E5ECF6\",\"gridcolor\":\"white\",\"linecolor\":\"white\",\"showbackground\":true,\"ticks\":\"\",\"zerolinecolor\":\"white\",\"gridwidth\":2},\"yaxis\":{\"backgroundcolor\":\"#E5ECF6\",\"gridcolor\":\"white\",\"linecolor\":\"white\",\"showbackground\":true,\"ticks\":\"\",\"zerolinecolor\":\"white\",\"gridwidth\":2},\"zaxis\":{\"backgroundcolor\":\"#E5ECF6\",\"gridcolor\":\"white\",\"linecolor\":\"white\",\"showbackground\":true,\"ticks\":\"\",\"zerolinecolor\":\"white\",\"gridwidth\":2}},\"shapedefaults\":{\"line\":{\"color\":\"#2a3f5f\"}},\"annotationdefaults\":{\"arrowcolor\":\"#2a3f5f\",\"arrowhead\":0,\"arrowwidth\":1},\"geo\":{\"bgcolor\":\"white\",\"landcolor\":\"#E5ECF6\",\"subunitcolor\":\"white\",\"showland\":true,\"showlakes\":true,\"lakecolor\":\"white\"},\"title\":{\"x\":0.05},\"mapbox\":{\"style\":\"light\"}}},\"xaxis\":{\"anchor\":\"y\",\"domain\":[0.0,1.0],\"title\":{\"text\":\"Category\"}},\"yaxis\":{\"anchor\":\"x\",\"domain\":[0.0,1.0],\"title\":{\"text\":\"Value\"}},\"legend\":{\"tracegroupgap\":0},\"title\":{\"text\":\"Simple Bar Plot\"},\"barmode\":\"relative\"},                        {\"responsive\": true}                    ).then(function(){\n",
       "                            \n",
       "var gd = document.getElementById('788151e3-654a-46f0-8572-6e40f284e603');\n",
       "var x = new MutationObserver(function (mutations, observer) {{\n",
       "        var display = window.getComputedStyle(gd).display;\n",
       "        if (!display || display === 'none') {{\n",
       "            console.log([gd, 'removed!']);\n",
       "            Plotly.purge(gd);\n",
       "            observer.disconnect();\n",
       "        }}\n",
       "}});\n",
       "\n",
       "// Listen for the removal of the full notebook cells\n",
       "var notebookContainer = gd.closest('#notebook-container');\n",
       "if (notebookContainer) {{\n",
       "    x.observe(notebookContainer, {childList: true});\n",
       "}}\n",
       "\n",
       "// Listen for the clearing of the current output cell\n",
       "var outputEl = gd.closest('.output');\n",
       "if (outputEl) {{\n",
       "    x.observe(outputEl, {childList: true});\n",
       "}}\n",
       "\n",
       "                        })                };                });            </script>        </div>"
      ]
     },
     "metadata": {},
     "output_type": "display_data"
    }
   ],
   "source": [
    "#5.Generate a bar plot using Plotly\n",
    "import plotly.express as px\n",
    "\n",
    "# Sample data for the bar plot\n",
    "data = {'Category': ['A', 'B', 'C', 'D'],\n",
    "        'Value': [10, 15, 7, 20]}\n",
    "\n",
    "# Create a DataFrame from the data\n",
    "import pandas as pd\n",
    "df = pd.DataFrame(data)\n",
    "\n",
    "# Generate the bar plot\n",
    "fig = px.bar(df, x='Category', y='Value', title='Simple Bar Plot')\n",
    "\n",
    "# Show the plot\n",
    "fig.show()\n"
   ]
  },
  {
   "cell_type": "code",
   "execution_count": 9,
   "id": "fc939b84-2269-4544-99d8-802884b7d02f",
   "metadata": {},
   "outputs": [
    {
     "name": "stdout",
     "output_type": "stream",
     "text": [
      "      Name  Age  Salary  Age in Months\n",
      "0    Alice   23   70000            276\n",
      "1      Bob   35   80000            420\n",
      "2  Charlie   45  120000            540\n",
      "3    David   33   90000            396\n"
     ]
    }
   ],
   "source": [
    "#6.Create a DataFrame and add a new column based on an existing column\n",
    "import pandas as pd\n",
    "\n",
    "# Create a sample DataFrame\n",
    "data = {'Name': ['Alice', 'Bob', 'Charlie', 'David'],\n",
    "        'Age': [23, 35, 45, 33],\n",
    "        'Salary': [70000, 80000, 120000, 90000]}\n",
    "\n",
    "df = pd.DataFrame(data)\n",
    "\n",
    "# Add a new column 'Age in Months' based on the 'Age' column\n",
    "df['Age in Months'] = df['Age'] * 12\n",
    "\n",
    "# Display the updated DataFrame\n",
    "print(df)\n",
    "\n"
   ]
  },
  {
   "cell_type": "code",
   "execution_count": 10,
   "id": "7837ab6e-c44e-4786-a1a7-d151533ee3d9",
   "metadata": {},
   "outputs": [
    {
     "name": "stdout",
     "output_type": "stream",
     "text": [
      "Result of element-wise multiplication: [ 5 12 21 32]\n"
     ]
    }
   ],
   "source": [
    "#7.Write a program to perform element-wise multiplication of two NumPy arrays\n",
    "import numpy as np\n",
    "\n",
    "# Create two NumPy arrays\n",
    "array1 = np.array([1, 2, 3, 4])\n",
    "array2 = np.array([5, 6, 7, 8])\n",
    "\n",
    "# Perform element-wise multiplication\n",
    "result = array1 * array2\n",
    "\n",
    "# Display the result\n",
    "print(\"Result of element-wise multiplication:\", result)\n"
   ]
  },
  {
   "cell_type": "code",
   "execution_count": 11,
   "id": "1b58eedd-75da-4aab-b64d-9f024292a3ff",
   "metadata": {},
   "outputs": [
    {
     "name": "stdout",
     "output_type": "stream",
     "text": [
      "Result of element-wise multiplication: [ 5 12 21 32]\n"
     ]
    }
   ],
   "source": [
    "#8.Create a line plot with multiple lines using Matplotlib\n",
    "import numpy as np\n",
    "\n",
    "# Create two NumPy arrays\n",
    "array1 = np.array([1, 2, 3, 4])\n",
    "array2 = np.array([5, 6, 7, 8])\n",
    "\n",
    "# Perform element-wise multiplication\n",
    "result = array1 * array2\n",
    "\n",
    "# Display the result\n",
    "print(\"Result of element-wise multiplication:\", result)\n"
   ]
  },
  {
   "cell_type": "code",
   "execution_count": 12,
   "id": "30ec1741-efc0-47e2-bce7-0bd9372e468e",
   "metadata": {},
   "outputs": [
    {
     "name": "stdout",
     "output_type": "stream",
     "text": [
      "      Name  Age  Salary\n",
      "2  Charlie   45  120000\n",
      "3    David   33   90000\n"
     ]
    }
   ],
   "source": [
    "#9.Generate a Pandas DataFrame and filter rows where a column value is greater than a threshold\n",
    "import pandas as pd\n",
    "\n",
    "# Create a sample DataFrame\n",
    "data = {'Name': ['Alice', 'Bob', 'Charlie', 'David'],\n",
    "        'Age': [23, 35, 45, 33],\n",
    "        'Salary': [70000, 80000, 120000, 90000]}\n",
    "\n",
    "df = pd.DataFrame(data)\n",
    "\n",
    "# Define the threshold for filtering\n",
    "salary_threshold = 80000\n",
    "\n",
    "# Filter rows where 'Salary' is greater than the threshold\n",
    "filtered_df = df[df['Salary'] > salary_threshold]\n",
    "\n",
    "# Display the filtered DataFrame\n",
    "print(filtered_df)\n"
   ]
  },
  {
   "cell_type": "code",
   "execution_count": 13,
   "id": "41713776-6f96-4e4a-b9ae-fd062ee415d7",
   "metadata": {},
   "outputs": [
    {
     "data": {
      "image/png": "[encoded data removed]",
      "text/plain": [
       "<Figure size 640x480 with 1 Axes>"
      ]
     },
     "metadata": {},
     "output_type": "display_data"
    }
   ],
   "source": [
    "#10.Create a histogram using Seaborn to visualize a distribution\n",
    "import seaborn as sns\n",
    "import matplotlib.pyplot as plt\n",
    "\n",
    "# Sample data: Ages of people\n",
    "data = [23, 45, 23, 34, 45, 55, 34, 29, 34, 42, 39, 41, 55, 62, 29, 35, 43, 29]\n",
    "\n",
    "# Create a histogram using Seaborn\n",
    "sns.histplot(data, kde=True, bins=10, color='skyblue')\n",
    "\n",
    "# Add title and labels\n",
    "plt.title('Distribution of Ages')\n",
    "plt.xlabel('Age')\n",
    "plt.ylabel('Frequency')\n",
    "\n",
    "# Show the plot\n",
    "plt.show()\n"
   ]
  },
  {
   "cell_type": "code",
   "execution_count": 14,
   "id": "a905e669-4468-40f2-b9ac-8e2c48c53566",
   "metadata": {},
   "outputs": [
    {
     "name": "stdout",
     "output_type": "stream",
     "text": [
      "Matrix multiplication using np.dot():\n",
      "[[19 22]\n",
      " [43 50]]\n",
      "\n",
      "Matrix multiplication using @ operator:\n",
      "[[19 22]\n",
      " [43 50]]\n"
     ]
    }
   ],
   "source": [
    "#11.Perform matrix multiplication using NumPy\n",
    "import numpy as np\n",
    "\n",
    "# Define two matrices\n",
    "matrix1 = np.array([[1, 2],\n",
    "                    [3, 4]])\n",
    "\n",
    "matrix2 = np.array([[5, 6],\n",
    "                    [7, 8]])\n",
    "\n",
    "# Matrix multiplication using np.dot()\n",
    "result_dot = np.dot(matrix1, matrix2)\n",
    "\n",
    "# Matrix multiplication using @ operator (alternative method)\n",
    "result_at = matrix1 @ matrix2\n",
    "\n",
    "# Display the results\n",
    "print(\"Matrix multiplication using np.dot():\")\n",
    "print(result_dot)\n",
    "\n",
    "print(\"\\nMatrix multiplication using @ operator:\")\n",
    "print(result_at)\n"
   ]
  },
  {
   "cell_type": "code",
   "execution_count": 16,
   "id": "87412c21-8131-44ab-bf98-df527733c5d1",
   "metadata": {},
   "outputs": [
    {
     "name": "stdout",
     "output_type": "stream",
     "text": [
      "   id  location_id  program_id accepted_payments alternate_name  \\\n",
      "0   1            1         NaN               NaN            NaN   \n",
      "1   2            2         NaN               NaN            NaN   \n",
      "2   3            3         NaN               NaN            NaN   \n",
      "3   4            4         NaN               NaN            NaN   \n",
      "4   5            5         NaN               NaN            NaN   \n",
      "\n",
      "                           application_process  \\\n",
      "0                   Walk in or apply by phone.   \n",
      "1           Apply by phone for an appointment.   \n",
      "2  Phone for information (403-4300 Ext. 4322).   \n",
      "3                              Apply by phone.   \n",
      "4                       Phone for information.   \n",
      "\n",
      "                                            audience  \\\n",
      "0  Older adults age 55 or over, ethnic minorities...   \n",
      "1       Residents of San Mateo County age 55 or over   \n",
      "2  Older adults age 55 or over who can benefit fr...   \n",
      "3  Parents, children, families with problems of c...   \n",
      "4  Low-income working families with children tran...   \n",
      "\n",
      "                                         description  \\\n",
      "0  A walk-in center for older adults that provide...   \n",
      "1  Provides training and job placement to eligibl...   \n",
      "2  Offers supportive counseling services to San M...   \n",
      "3  Provides supervised visitation services and a ...   \n",
      "4  Provides fixed 8% short term loans to eligible...   \n",
      "\n",
      "                                         eligibility email  ...  \\\n",
      "0  Age 55 or over for most programs, age 60 or ov...   NaN  ...   \n",
      "1  Age 55 or over, county resident and willing an...   NaN  ...   \n",
      "2        Resident of San Mateo County age 55 or over   NaN  ...   \n",
      "3                                                NaN   NaN  ...   \n",
      "4  Eligibility: Low-income family with legal cust...   NaN  ...   \n",
      "\n",
      "  interpretation_services                                           keywords  \\\n",
      "0                     NaN  ADULT PROTECTION AND CARE SERVICES, Meal Sites...   \n",
      "1                     NaN  EMPLOYMENT/TRAINING SERVICES, Job Development,...   \n",
      "2                     NaN  Geriatric Counseling, Older Adults, Gay, Lesbi...   \n",
      "3                     NaN  INDIVIDUAL AND FAMILY DEVELOPMENT SERVICES, Gr...   \n",
      "4                     NaN     COMMUNITY SERVICES, Speakers, Automobile Loans   \n",
      "\n",
      "  languages                               name required_documents  \\\n",
      "0       NaN    Fair Oaks Adult Activity Center                NaN   \n",
      "1       NaN   Second Career Employment Program                NaN   \n",
      "2       NaN             Senior Peer Counseling                NaN   \n",
      "3       NaN           Family Visitation Center                NaN   \n",
      "4       NaN  Economic Self-Sufficiency Program                NaN   \n",
      "\n",
      "      service_areas  status wait_time website taxonomy_ids  \n",
      "0             Colma  active  No wait.     NaN          NaN  \n",
      "1  San Mateo County  active   Varies.     NaN          NaN  \n",
      "2  San Mateo County  active   Varies.     NaN          NaN  \n",
      "3  San Mateo County  active  No wait.     NaN          NaN  \n",
      "4  San Mateo County  active       NaN     NaN          NaN  \n",
      "\n",
      "[5 rows x 22 columns]\n"
     ]
    }
   ],
   "source": [
    "#12.Use Pandas to load a CSV file and display its first 5 row\n",
    "import pandas as pd\n",
    "\n",
    "# Load a CSV file into a DataFrame\n",
    "df = pd.read_csv('services.csv')\n",
    "\n",
    "# Display the first 5 rows of the DataFrame\n",
    "print(df.head(5))\n"
   ]
  },
  {
   "cell_type": "code",
   "execution_count": 18,
   "id": "a8ba042a-c495-404c-8777-63c44b32dee6",
   "metadata": {},
   "outputs": [
    {
     "data": {
      "application/vnd.plotly.v1+json": {
       "config": {
        "plotlyServerURL": "https://plot.ly"
       },
       "data": [
        {
         "marker": {
          "color": [
           0.03142918568673425,
           0.6364104112637804,
           0.3143559810763267,
           0.5085706911647028,
           0.907566473926093,
           0.24929222914887494,
           0.41038292303562973,
           0.7555511385430487,
           0.22879816549162246,
           0.07697990982879299,
           0.289751452913768,
           0.16122128725400442,
           0.9296976523425731,
           0.808120379564417,
           0.6334037565104235,
           0.8714605901877177,
           0.8036720768991145,
           0.18657005888603584,
           0.8925589984899778,
           0.5393422419156507,
           0.8074401551640625,
           0.8960912999234932,
           0.3180034749718639,
           0.11005192452767676,
           0.22793516254194168,
           0.4271077886262563,
           0.8180147659224931,
           0.8607305832563434,
           0.006952130531190703,
           0.5107473025775657,
           0.417411003148779,
           0.22210781047073025,
           0.1198653673336828,
           0.33761517140362796,
           0.9429097039125192,
           0.32320293202075523,
           0.5187906217433661,
           0.7030189588951778,
           0.363629602379294,
           0.9717820827209607,
           0.9624472949421112,
           0.25178229582536416,
           0.49724850589238545,
           0.30087830981676966,
           0.2848404943774676,
           0.036886947354532795,
           0.6095643339798968,
           0.5026790232288615,
           0.05147875124998935,
           0.27864646423661144
          ],
          "colorscale": [
           [
            0,
            "#440154"
           ],
           [
            0.1111111111111111,
            "#482878"
           ],
           [
            0.2222222222222222,
            "#3e4989"
           ],
           [
            0.3333333333333333,
            "#31688e"
           ],
           [
            0.4444444444444444,
            "#26828e"
           ],
           [
            0.5555555555555556,
            "#1f9e89"
           ],
           [
            0.6666666666666666,
            "#35b779"
           ],
           [
            0.7777777777777778,
            "#6ece58"
           ],
           [
            0.8888888888888888,
            "#b5de2b"
           ],
           [
            1,
            "#fde725"
           ]
          ],
          "opacity": 0.8,
          "size": 8
         },
         "mode": "markers",
         "type": "scatter3d",
         "x": [
          0.3745401188473625,
          0.9507143064099162,
          0.7319939418114051,
          0.5986584841970366,
          0.15601864044243652,
          0.15599452033620265,
          0.05808361216819946,
          0.8661761457749352,
          0.6011150117432088,
          0.7080725777960455,
          0.020584494295802447,
          0.9699098521619943,
          0.8324426408004217,
          0.21233911067827616,
          0.18182496720710062,
          0.18340450985343382,
          0.3042422429595377,
          0.5247564316322378,
          0.43194501864211576,
          0.2912291401980419,
          0.6118528947223795,
          0.13949386065204183,
          0.29214464853521815,
          0.3663618432936917,
          0.45606998421703593,
          0.7851759613930136,
          0.19967378215835974,
          0.5142344384136116,
          0.5924145688620425,
          0.046450412719997725,
          0.6075448519014384,
          0.17052412368729153,
          0.06505159298527952,
          0.9488855372533332,
          0.9656320330745594,
          0.8083973481164611,
          0.3046137691733707,
          0.09767211400638387,
          0.6842330265121569,
          0.4401524937396013,
          0.12203823484477883,
          0.4951769101112702,
          0.034388521115218396,
          0.9093204020787821,
          0.2587799816000169,
          0.662522284353982,
          0.31171107608941095,
          0.5200680211778108,
          0.5467102793432796,
          0.18485445552552704
         ],
         "y": [
          0.9695846277645586,
          0.7751328233611146,
          0.9394989415641891,
          0.8948273504276488,
          0.5978999788110851,
          0.9218742350231168,
          0.0884925020519195,
          0.1959828624191452,
          0.045227288910538066,
          0.32533033076326434,
          0.388677289689482,
          0.2713490317738959,
          0.8287375091519293,
          0.3567533266935893,
          0.28093450968738076,
          0.5426960831582485,
          0.14092422497476265,
          0.8021969807540397,
          0.07455064367977082,
          0.9868869366005173,
          0.7722447692966574,
          0.1987156815341724,
          0.005522117123602399,
          0.8154614284548342,
          0.7068573438476171,
          0.7290071680409873,
          0.7712703466859457,
          0.07404465173409036,
          0.3584657285442726,
          0.11586905952512971,
          0.8631034258755935,
          0.6232981268275579,
          0.3308980248526492,
          0.06355835028602363,
          0.3109823217156622,
          0.32518332202674705,
          0.7296061783380641,
          0.6375574713552131,
          0.8872127425763265,
          0.4722149251619493,
          0.1195942459383017,
          0.713244787222995,
          0.7607850486168974,
          0.5612771975694962,
          0.770967179954561,
          0.49379559636439074,
          0.5227328293819941,
          0.42754101835854963,
          0.02541912674409519,
          0.10789142699330445
         ],
         "z": [
          0.03142918568673425,
          0.6364104112637804,
          0.3143559810763267,
          0.5085706911647028,
          0.907566473926093,
          0.24929222914887494,
          0.41038292303562973,
          0.7555511385430487,
          0.22879816549162246,
          0.07697990982879299,
          0.289751452913768,
          0.16122128725400442,
          0.9296976523425731,
          0.808120379564417,
          0.6334037565104235,
          0.8714605901877177,
          0.8036720768991145,
          0.18657005888603584,
          0.8925589984899778,
          0.5393422419156507,
          0.8074401551640625,
          0.8960912999234932,
          0.3180034749718639,
          0.11005192452767676,
          0.22793516254194168,
          0.4271077886262563,
          0.8180147659224931,
          0.8607305832563434,
          0.006952130531190703,
          0.5107473025775657,
          0.417411003148779,
          0.22210781047073025,
          0.1198653673336828,
          0.33761517140362796,
          0.9429097039125192,
          0.32320293202075523,
          0.5187906217433661,
          0.7030189588951778,
          0.363629602379294,
          0.9717820827209607,
          0.9624472949421112,
          0.25178229582536416,
          0.49724850589238545,
          0.30087830981676966,
          0.2848404943774676,
          0.036886947354532795,
          0.6095643339798968,
          0.5026790232288615,
          0.05147875124998935,
          0.27864646423661144
         ]
        }
       ],
       "layout": {
        "autosize": true,
        "scene": {
         "aspectmode": "auto",
         "aspectratio": {
          "x": 0.983670469311659,
          "y": 1.0168690686938058,
          "z": 0.9997359956861379
         },
         "xaxis": {
          "title": {
           "text": "X Axis"
          },
          "type": "linear"
         },
         "yaxis": {
          "title": {
           "text": "Y Axis"
          },
          "type": "linear"
         },
         "zaxis": {
          "title": {
           "text": "Z Axis"
          },
          "type": "linear"
         }
        },
        "template": {
         "data": {
          "bar": [
           {
            "error_x": {
             "color": "#2a3f5f"
            },
            "error_y": {
             "color": "#2a3f5f"
            },
            "marker": {
             "line": {
              "color": "#E5ECF6",
              "width": 0.5
             },
             "pattern": {
              "fillmode": "overlay",
              "size": 10,
              "solidity": 0.2
             }
            },
            "type": "bar"
           }
          ],
          "barpolar": [
           {
            "marker": {
             "line": {
              "color": "#E5ECF6",
              "width": 0.5
             },
             "pattern": {
              "fillmode": "overlay",
              "size": 10,
              "solidity": 0.2
             }
            },
            "type": "barpolar"
           }
          ],
          "carpet": [
           {
            "aaxis": {
             "endlinecolor": "#2a3f5f",
             "gridcolor": "white",
             "linecolor": "white",
             "minorgridcolor": "white",
             "startlinecolor": "#2a3f5f"
            },
            "baxis": {
             "endlinecolor": "#2a3f5f",
             "gridcolor": "white",
             "linecolor": "white",
             "minorgridcolor": "white",
             "startlinecolor": "#2a3f5f"
            },
            "type": "carpet"
           }
          ],
          "choropleth": [
           {
            "colorbar": {
             "outlinewidth": 0,
             "ticks": ""
            },
            "type": "choropleth"
           }
          ],
          "contour": [
           {
            "colorbar": {
             "outlinewidth": 0,
             "ticks": ""
            },
            "colorscale": [
             [
              0,
              "#0d0887"
             ],
             [
              0.1111111111111111,
              "#46039f"
             ],
             [
              0.2222222222222222,
              "#7201a8"
             ],
             [
              0.3333333333333333,
              "#9c179e"
             ],
             [
              0.4444444444444444,
              "#bd3786"
             ],
             [
              0.5555555555555556,
              "#d8576b"
             ],
             [
              0.6666666666666666,
              "#ed7953"
             ],
             [
              0.7777777777777778,
              "#fb9f3a"
             ],
             [
              0.8888888888888888,
              "#fdca26"
             ],
             [
              1,
              "#f0f921"
             ]
            ],
            "type": "contour"
           }
          ],
          "contourcarpet": [
           {
            "colorbar": {
             "outlinewidth": 0,
             "ticks": ""
            },
            "type": "contourcarpet"
           }
          ],
          "heatmap": [
           {
            "colorbar": {
             "outlinewidth": 0,
             "ticks": ""
            },
            "colorscale": [
             [
              0,
              "#0d0887"
             ],
             [
              0.1111111111111111,
              "#46039f"
             ],
             [
              0.2222222222222222,
              "#7201a8"
             ],
             [
              0.3333333333333333,
              "#9c179e"
             ],
             [
              0.4444444444444444,
              "#bd3786"
             ],
             [
              0.5555555555555556,
              "#d8576b"
             ],
             [
              0.6666666666666666,
              "#ed7953"
             ],
             [
              0.7777777777777778,
              "#fb9f3a"
             ],
             [
              0.8888888888888888,
              "#fdca26"
             ],
             [
              1,
              "#f0f921"
             ]
            ],
            "type": "heatmap"
           }
          ],
          "heatmapgl": [
           {
            "colorbar": {
             "outlinewidth": 0,
             "ticks": ""
            },
            "colorscale": [
             [
              0,
              "#0d0887"
             ],
             [
              0.1111111111111111,
              "#46039f"
             ],
             [
              0.2222222222222222,
              "#7201a8"
             ],
             [
              0.3333333333333333,
              "#9c179e"
             ],
             [
              0.4444444444444444,
              "#bd3786"
             ],
             [
              0.5555555555555556,
              "#d8576b"
             ],
             [
              0.6666666666666666,
              "#ed7953"
             ],
             [
              0.7777777777777778,
              "#fb9f3a"
             ],
             [
              0.8888888888888888,
              "#fdca26"
             ],
             [
              1,
              "#f0f921"
             ]
            ],
            "type": "heatmapgl"
           }
          ],
          "histogram": [
           {
            "marker": {
             "pattern": {
              "fillmode": "overlay",
              "size": 10,
              "solidity": 0.2
             }
            },
            "type": "histogram"
           }
          ],
          "histogram2d": [
           {
            "colorbar": {
             "outlinewidth": 0,
             "ticks": ""
            },
            "colorscale": [
             [
              0,
              "#0d0887"
             ],
             [
              0.1111111111111111,
              "#46039f"
             ],
             [
              0.2222222222222222,
              "#7201a8"
             ],
             [
              0.3333333333333333,
              "#9c179e"
             ],
             [
              0.4444444444444444,
              "#bd3786"
             ],
             [
              0.5555555555555556,
              "#d8576b"
             ],
             [
              0.6666666666666666,
              "#ed7953"
             ],
             [
              0.7777777777777778,
              "#fb9f3a"
             ],
             [
              0.8888888888888888,
              "#fdca26"
             ],
             [
              1,
              "#f0f921"
             ]
            ],
            "type": "histogram2d"
           }
          ],
          "histogram2dcontour": [
           {
            "colorbar": {
             "outlinewidth": 0,
             "ticks": ""
            },
            "colorscale": [
             [
              0,
              "#0d0887"
             ],
             [
              0.1111111111111111,
              "#46039f"
             ],
             [
              0.2222222222222222,
              "#7201a8"
             ],
             [
              0.3333333333333333,
              "#9c179e"
             ],
             [
              0.4444444444444444,
              "#bd3786"
             ],
             [
              0.5555555555555556,
              "#d8576b"
             ],
             [
              0.6666666666666666,
              "#ed7953"
             ],
             [
              0.7777777777777778,
              "#fb9f3a"
             ],
             [
              0.8888888888888888,
              "#fdca26"
             ],
             [
              1,
              "#f0f921"
             ]
            ],
            "type": "histogram2dcontour"
           }
          ],
          "mesh3d": [
           {
            "colorbar": {
             "outlinewidth": 0,
             "ticks": ""
            },
            "type": "mesh3d"
           }
          ],
          "parcoords": [
           {
            "line": {
             "colorbar": {
              "outlinewidth": 0,
              "ticks": ""
             }
            },
            "type": "parcoords"
           }
          ],
          "pie": [
           {
            "automargin": true,
            "type": "pie"
           }
          ],
          "scatter": [
           {
            "fillpattern": {
             "fillmode": "overlay",
             "size": 10,
             "solidity": 0.2
            },
            "type": "scatter"
           }
          ],
          "scatter3d": [
           {
            "line": {
             "colorbar": {
              "outlinewidth": 0,
              "ticks": ""
             }
            },
            "marker": {
             "colorbar": {
              "outlinewidth": 0,
              "ticks": ""
             }
            },
            "type": "scatter3d"
           }
          ],
          "scattercarpet": [
           {
            "marker": {
             "colorbar": {
              "outlinewidth": 0,
              "ticks": ""
             }
            },
            "type": "scattercarpet"
           }
          ],
          "scattergeo": [
           {
            "marker": {
             "colorbar": {
              "outlinewidth": 0,
              "ticks": ""
             }
            },
            "type": "scattergeo"
           }
          ],
          "scattergl": [
           {
            "marker": {
             "colorbar": {
              "outlinewidth": 0,
              "ticks": ""
             }
            },
            "type": "scattergl"
           }
          ],
          "scattermapbox": [
           {
            "marker": {
             "colorbar": {
              "outlinewidth": 0,
              "ticks": ""
             }
            },
            "type": "scattermapbox"
           }
          ],
          "scatterpolar": [
           {
            "marker": {
             "colorbar": {
              "outlinewidth": 0,
              "ticks": ""
             }
            },
            "type": "scatterpolar"
           }
          ],
          "scatterpolargl": [
           {
            "marker": {
             "colorbar": {
              "outlinewidth": 0,
              "ticks": ""
             }
            },
            "type": "scatterpolargl"
           }
          ],
          "scatterternary": [
           {
            "marker": {
             "colorbar": {
              "outlinewidth": 0,
              "ticks": ""
             }
            },
            "type": "scatterternary"
           }
          ],
          "surface": [
           {
            "colorbar": {
             "outlinewidth": 0,
             "ticks": ""
            },
            "colorscale": [
             [
              0,
              "#0d0887"
             ],
             [
              0.1111111111111111,
              "#46039f"
             ],
             [
              0.2222222222222222,
              "#7201a8"
             ],
             [
              0.3333333333333333,
              "#9c179e"
             ],
             [
              0.4444444444444444,
              "#bd3786"
             ],
             [
              0.5555555555555556,
              "#d8576b"
             ],
             [
              0.6666666666666666,
              "#ed7953"
             ],
             [
              0.7777777777777778,
              "#fb9f3a"
             ],
             [
              0.8888888888888888,
              "#fdca26"
             ],
             [
              1,
              "#f0f921"
             ]
            ],
            "type": "surface"
           }
          ],
          "table": [
           {
            "cells": {
             "fill": {
              "color": "#EBF0F8"
             },
             "line": {
              "color": "white"
             }
            },
            "header": {
             "fill": {
              "color": "#C8D4E3"
             },
             "line": {
              "color": "white"
             }
            },
            "type": "table"
           }
          ]
         },
         "layout": {
          "annotationdefaults": {
           "arrowcolor": "#2a3f5f",
           "arrowhead": 0,
           "arrowwidth": 1
          },
          "autotypenumbers": "strict",
          "coloraxis": {
           "colorbar": {
            "outlinewidth": 0,
            "ticks": ""
           }
          },
          "colorscale": {
           "diverging": [
            [
             0,
             "#8e0152"
            ],
            [
             0.1,
             "#c51b7d"
            ],
            [
             0.2,
             "#de77ae"
            ],
            [
             0.3,
             "#f1b6da"
            ],
            [
             0.4,
             "#fde0ef"
            ],
            [
             0.5,
             "#f7f7f7"
            ],
            [
             0.6,
             "#e6f5d0"
            ],
            [
             0.7,
             "#b8e186"
            ],
            [
             0.8,
             "#7fbc41"
            ],
            [
             0.9,
             "#4d9221"
            ],
            [
             1,
             "#276419"
            ]
           ],
           "sequential": [
            [
             0,
             "#0d0887"
            ],
            [
             0.1111111111111111,
             "#46039f"
            ],
            [
             0.2222222222222222,
             "#7201a8"
            ],
            [
             0.3333333333333333,
             "#9c179e"
            ],
            [
             0.4444444444444444,
             "#bd3786"
            ],
            [
             0.5555555555555556,
             "#d8576b"
            ],
            [
             0.6666666666666666,
             "#ed7953"
            ],
            [
             0.7777777777777778,
             "#fb9f3a"
            ],
            [
             0.8888888888888888,
             "#fdca26"
            ],
            [
             1,
             "#f0f921"
            ]
           ],
           "sequentialminus": [
            [
             0,
             "#0d0887"
            ],
            [
             0.1111111111111111,
             "#46039f"
            ],
            [
             0.2222222222222222,
             "#7201a8"
            ],
            [
             0.3333333333333333,
             "#9c179e"
            ],
            [
             0.4444444444444444,
             "#bd3786"
            ],
            [
             0.5555555555555556,
             "#d8576b"
            ],
            [
             0.6666666666666666,
             "#ed7953"
            ],
            [
             0.7777777777777778,
             "#fb9f3a"
            ],
            [
             0.8888888888888888,
             "#fdca26"
            ],
            [
             1,
             "#f0f921"
            ]
           ]
          },
          "colorway": [
           "#636efa",
           "#EF553B",
           "#00cc96",
           "#ab63fa",
           "#FFA15A",
           "#19d3f3",
           "#FF6692",
           "#B6E880",
           "#FF97FF",
           "#FECB52"
          ],
          "font": {
           "color": "#2a3f5f"
          },
          "geo": {
           "bgcolor": "white",
           "lakecolor": "white",
           "landcolor": "#E5ECF6",
           "showlakes": true,
           "showland": true,
           "subunitcolor": "white"
          },
          "hoverlabel": {
           "align": "left"
          },
          "hovermode": "closest",
          "mapbox": {
           "style": "light"
          },
          "paper_bgcolor": "white",
          "plot_bgcolor": "#E5ECF6",
          "polar": {
           "angularaxis": {
            "gridcolor": "white",
            "linecolor": "white",
            "ticks": ""
           },
           "bgcolor": "#E5ECF6",
           "radialaxis": {
            "gridcolor": "white",
            "linecolor": "white",
            "ticks": ""
           }
          },
          "scene": {
           "xaxis": {
            "backgroundcolor": "#E5ECF6",
            "gridcolor": "white",
            "gridwidth": 2,
            "linecolor": "white",
            "showbackground": true,
            "ticks": "",
            "zerolinecolor": "white"
           },
           "yaxis": {
            "backgroundcolor": "#E5ECF6",
            "gridcolor": "white",
            "gridwidth": 2,
            "linecolor": "white",
            "showbackground": true,
            "ticks": "",
            "zerolinecolor": "white"
           },
           "zaxis": {
            "backgroundcolor": "#E5ECF6",
            "gridcolor": "white",
            "gridwidth": 2,
            "linecolor": "white",
            "showbackground": true,
            "ticks": "",
            "zerolinecolor": "white"
           }
          },
          "shapedefaults": {
           "line": {
            "color": "#2a3f5f"
           }
          },
          "ternary": {
           "aaxis": {
            "gridcolor": "white",
            "linecolor": "white",
            "ticks": ""
           },
           "baxis": {
            "gridcolor": "white",
            "linecolor": "white",
            "ticks": ""
           },
           "bgcolor": "#E5ECF6",
           "caxis": {
            "gridcolor": "white",
            "linecolor": "white",
            "ticks": ""
           }
          },
          "title": {
           "x": 0.05
          },
          "xaxis": {
           "automargin": true,
           "gridcolor": "white",
           "linecolor": "white",
           "ticks": "",
           "title": {
            "standoff": 15
           },
           "zerolinecolor": "white",
           "zerolinewidth": 2
          },
          "yaxis": {
           "automargin": true,
           "gridcolor": "white",
           "linecolor": "white",
           "ticks": "",
           "title": {
            "standoff": 15
           },
           "zerolinecolor": "white",
           "zerolinewidth": 2
          }
         }
        },
        "title": {
         "text": "3D Scatter Plot"
        }
       }
      },
      "image/png": "[encoded data removed]",
      "text/html": [
       "<div>                            <div id=\"43a3c952-16f6-466d-9043-dd391c79a20f\" class=\"plotly-graph-div\" style=\"height:525px; width:100%;\"></div>            <script type=\"text/javascript\">                require([\"plotly\"], function(Plotly) {                    window.PLOTLYENV=window.PLOTLYENV || {};                                    if (document.getElementById(\"43a3c952-16f6-466d-9043-dd391c79a20f\")) {                    Plotly.newPlot(                        \"43a3c952-16f6-466d-9043-dd391c79a20f\",                        [{\"marker\":{\"color\":[0.03142918568673425,0.6364104112637804,0.3143559810763267,0.5085706911647028,0.907566473926093,0.24929222914887494,0.41038292303562973,0.7555511385430487,0.22879816549162246,0.07697990982879299,0.289751452913768,0.16122128725400442,0.9296976523425731,0.808120379564417,0.6334037565104235,0.8714605901877177,0.8036720768991145,0.18657005888603584,0.8925589984899778,0.5393422419156507,0.8074401551640625,0.8960912999234932,0.3180034749718639,0.11005192452767676,0.22793516254194168,0.4271077886262563,0.8180147659224931,0.8607305832563434,0.006952130531190703,0.5107473025775657,0.417411003148779,0.22210781047073025,0.1198653673336828,0.33761517140362796,0.9429097039125192,0.32320293202075523,0.5187906217433661,0.7030189588951778,0.363629602379294,0.9717820827209607,0.9624472949421112,0.25178229582536416,0.49724850589238545,0.30087830981676966,0.2848404943774676,0.036886947354532795,0.6095643339798968,0.5026790232288615,0.05147875124998935,0.27864646423661144],\"colorscale\":[[0.0,\"#440154\"],[0.1111111111111111,\"#482878\"],[0.2222222222222222,\"#3e4989\"],[0.3333333333333333,\"#31688e\"],[0.4444444444444444,\"#26828e\"],[0.5555555555555556,\"#1f9e89\"],[0.6666666666666666,\"#35b779\"],[0.7777777777777778,\"#6ece58\"],[0.8888888888888888,\"#b5de2b\"],[1.0,\"#fde725\"]],\"opacity\":0.8,\"size\":8},\"mode\":\"markers\",\"x\":[0.3745401188473625,0.9507143064099162,0.7319939418114051,0.5986584841970366,0.15601864044243652,0.15599452033620265,0.05808361216819946,0.8661761457749352,0.6011150117432088,0.7080725777960455,0.020584494295802447,0.9699098521619943,0.8324426408004217,0.21233911067827616,0.18182496720710062,0.18340450985343382,0.3042422429595377,0.5247564316322378,0.43194501864211576,0.2912291401980419,0.6118528947223795,0.13949386065204183,0.29214464853521815,0.3663618432936917,0.45606998421703593,0.7851759613930136,0.19967378215835974,0.5142344384136116,0.5924145688620425,0.046450412719997725,0.6075448519014384,0.17052412368729153,0.06505159298527952,0.9488855372533332,0.9656320330745594,0.8083973481164611,0.3046137691733707,0.09767211400638387,0.6842330265121569,0.4401524937396013,0.12203823484477883,0.4951769101112702,0.034388521115218396,0.9093204020787821,0.2587799816000169,0.662522284353982,0.31171107608941095,0.5200680211778108,0.5467102793432796,0.18485445552552704],\"y\":[0.9695846277645586,0.7751328233611146,0.9394989415641891,0.8948273504276488,0.5978999788110851,0.9218742350231168,0.0884925020519195,0.1959828624191452,0.045227288910538066,0.32533033076326434,0.388677289689482,0.2713490317738959,0.8287375091519293,0.3567533266935893,0.28093450968738076,0.5426960831582485,0.14092422497476265,0.8021969807540397,0.07455064367977082,0.9868869366005173,0.7722447692966574,0.1987156815341724,0.005522117123602399,0.8154614284548342,0.7068573438476171,0.7290071680409873,0.7712703466859457,0.07404465173409036,0.3584657285442726,0.11586905952512971,0.8631034258755935,0.6232981268275579,0.3308980248526492,0.06355835028602363,0.3109823217156622,0.32518332202674705,0.7296061783380641,0.6375574713552131,0.8872127425763265,0.4722149251619493,0.1195942459383017,0.713244787222995,0.7607850486168974,0.5612771975694962,0.770967179954561,0.49379559636439074,0.5227328293819941,0.42754101835854963,0.02541912674409519,0.10789142699330445],\"z\":[0.03142918568673425,0.6364104112637804,0.3143559810763267,0.5085706911647028,0.907566473926093,0.24929222914887494,0.41038292303562973,0.7555511385430487,0.22879816549162246,0.07697990982879299,0.289751452913768,0.16122128725400442,0.9296976523425731,0.808120379564417,0.6334037565104235,0.8714605901877177,0.8036720768991145,0.18657005888603584,0.8925589984899778,0.5393422419156507,0.8074401551640625,0.8960912999234932,0.3180034749718639,0.11005192452767676,0.22793516254194168,0.4271077886262563,0.8180147659224931,0.8607305832563434,0.006952130531190703,0.5107473025775657,0.417411003148779,0.22210781047073025,0.1198653673336828,0.33761517140362796,0.9429097039125192,0.32320293202075523,0.5187906217433661,0.7030189588951778,0.363629602379294,0.9717820827209607,0.9624472949421112,0.25178229582536416,0.49724850589238545,0.30087830981676966,0.2848404943774676,0.036886947354532795,0.6095643339798968,0.5026790232288615,0.05147875124998935,0.27864646423661144],\"type\":\"scatter3d\"}],                        {\"template\":{\"data\":{\"histogram2dcontour\":[{\"type\":\"histogram2dcontour\",\"colorbar\":{\"outlinewidth\":0,\"ticks\":\"\"},\"colorscale\":[[0.0,\"#0d0887\"],[0.1111111111111111,\"#46039f\"],[0.2222222222222222,\"#7201a8\"],[0.3333333333333333,\"#9c179e\"],[0.4444444444444444,\"#bd3786\"],[0.5555555555555556,\"#d8576b\"],[0.6666666666666666,\"#ed7953\"],[0.7777777777777778,\"#fb9f3a\"],[0.8888888888888888,\"#fdca26\"],[1.0,\"#f0f921\"]]}],\"choropleth\":[{\"type\":\"choropleth\",\"colorbar\":{\"outlinewidth\":0,\"ticks\":\"\"}}],\"histogram2d\":[{\"type\":\"histogram2d\",\"colorbar\":{\"outlinewidth\":0,\"ticks\":\"\"},\"colorscale\":[[0.0,\"#0d0887\"],[0.1111111111111111,\"#46039f\"],[0.2222222222222222,\"#7201a8\"],[0.3333333333333333,\"#9c179e\"],[0.4444444444444444,\"#bd3786\"],[0.5555555555555556,\"#d8576b\"],[0.6666666666666666,\"#ed7953\"],[0.7777777777777778,\"#fb9f3a\"],[0.8888888888888888,\"#fdca26\"],[1.0,\"#f0f921\"]]}],\"heatmap\":[{\"type\":\"heatmap\",\"colorbar\":{\"outlinewidth\":0,\"ticks\":\"\"},\"colorscale\":[[0.0,\"#0d0887\"],[0.1111111111111111,\"#46039f\"],[0.2222222222222222,\"#7201a8\"],[0.3333333333333333,\"#9c179e\"],[0.4444444444444444,\"#bd3786\"],[0.5555555555555556,\"#d8576b\"],[0.6666666666666666,\"#ed7953\"],[0.7777777777777778,\"#fb9f3a\"],[0.8888888888888888,\"#fdca26\"],[1.0,\"#f0f921\"]]}],\"heatmapgl\":[{\"type\":\"heatmapgl\",\"colorbar\":{\"outlinewidth\":0,\"ticks\":\"\"},\"colorscale\":[[0.0,\"#0d0887\"],[0.1111111111111111,\"#46039f\"],[0.2222222222222222,\"#7201a8\"],[0.3333333333333333,\"#9c179e\"],[0.4444444444444444,\"#bd3786\"],[0.5555555555555556,\"#d8576b\"],[0.6666666666666666,\"#ed7953\"],[0.7777777777777778,\"#fb9f3a\"],[0.8888888888888888,\"#fdca26\"],[1.0,\"#f0f921\"]]}],\"contourcarpet\":[{\"type\":\"contourcarpet\",\"colorbar\":{\"outlinewidth\":0,\"ticks\":\"\"}}],\"contour\":[{\"type\":\"contour\",\"colorbar\":{\"outlinewidth\":0,\"ticks\":\"\"},\"colorscale\":[[0.0,\"#0d0887\"],[0.1111111111111111,\"#46039f\"],[0.2222222222222222,\"#7201a8\"],[0.3333333333333333,\"#9c179e\"],[0.4444444444444444,\"#bd3786\"],[0.5555555555555556,\"#d8576b\"],[0.6666666666666666,\"#ed7953\"],[0.7777777777777778,\"#fb9f3a\"],[0.8888888888888888,\"#fdca26\"],[1.0,\"#f0f921\"]]}],\"surface\":[{\"type\":\"surface\",\"colorbar\":{\"outlinewidth\":0,\"ticks\":\"\"},\"colorscale\":[[0.0,\"#0d0887\"],[0.1111111111111111,\"#46039f\"],[0.2222222222222222,\"#7201a8\"],[0.3333333333333333,\"#9c179e\"],[0.4444444444444444,\"#bd3786\"],[0.5555555555555556,\"#d8576b\"],[0.6666666666666666,\"#ed7953\"],[0.7777777777777778,\"#fb9f3a\"],[0.8888888888888888,\"#fdca26\"],[1.0,\"#f0f921\"]]}],\"mesh3d\":[{\"type\":\"mesh3d\",\"colorbar\":{\"outlinewidth\":0,\"ticks\":\"\"}}],\"scatter\":[{\"fillpattern\":{\"fillmode\":\"overlay\",\"size\":10,\"solidity\":0.2},\"type\":\"scatter\"}],\"parcoords\":[{\"type\":\"parcoords\",\"line\":{\"colorbar\":{\"outlinewidth\":0,\"ticks\":\"\"}}}],\"scatterpolargl\":[{\"type\":\"scatterpolargl\",\"marker\":{\"colorbar\":{\"outlinewidth\":0,\"ticks\":\"\"}}}],\"bar\":[{\"error_x\":{\"color\":\"#2a3f5f\"},\"error_y\":{\"color\":\"#2a3f5f\"},\"marker\":{\"line\":{\"color\":\"#E5ECF6\",\"width\":0.5},\"pattern\":{\"fillmode\":\"overlay\",\"size\":10,\"solidity\":0.2}},\"type\":\"bar\"}],\"scattergeo\":[{\"type\":\"scattergeo\",\"marker\":{\"colorbar\":{\"outlinewidth\":0,\"ticks\":\"\"}}}],\"scatterpolar\":[{\"type\":\"scatterpolar\",\"marker\":{\"colorbar\":{\"outlinewidth\":0,\"ticks\":\"\"}}}],\"histogram\":[{\"marker\":{\"pattern\":{\"fillmode\":\"overlay\",\"size\":10,\"solidity\":0.2}},\"type\":\"histogram\"}],\"scattergl\":[{\"type\":\"scattergl\",\"marker\":{\"colorbar\":{\"outlinewidth\":0,\"ticks\":\"\"}}}],\"scatter3d\":[{\"type\":\"scatter3d\",\"line\":{\"colorbar\":{\"outlinewidth\":0,\"ticks\":\"\"}},\"marker\":{\"colorbar\":{\"outlinewidth\":0,\"ticks\":\"\"}}}],\"scattermapbox\":[{\"type\":\"scattermapbox\",\"marker\":{\"colorbar\":{\"outlinewidth\":0,\"ticks\":\"\"}}}],\"scatterternary\":[{\"type\":\"scatterternary\",\"marker\":{\"colorbar\":{\"outlinewidth\":0,\"ticks\":\"\"}}}],\"scattercarpet\":[{\"type\":\"scattercarpet\",\"marker\":{\"colorbar\":{\"outlinewidth\":0,\"ticks\":\"\"}}}],\"carpet\":[{\"aaxis\":{\"endlinecolor\":\"#2a3f5f\",\"gridcolor\":\"white\",\"linecolor\":\"white\",\"minorgridcolor\":\"white\",\"startlinecolor\":\"#2a3f5f\"},\"baxis\":{\"endlinecolor\":\"#2a3f5f\",\"gridcolor\":\"white\",\"linecolor\":\"white\",\"minorgridcolor\":\"white\",\"startlinecolor\":\"#2a3f5f\"},\"type\":\"carpet\"}],\"table\":[{\"cells\":{\"fill\":{\"color\":\"#EBF0F8\"},\"line\":{\"color\":\"white\"}},\"header\":{\"fill\":{\"color\":\"#C8D4E3\"},\"line\":{\"color\":\"white\"}},\"type\":\"table\"}],\"barpolar\":[{\"marker\":{\"line\":{\"color\":\"#E5ECF6\",\"width\":0.5},\"pattern\":{\"fillmode\":\"overlay\",\"size\":10,\"solidity\":0.2}},\"type\":\"barpolar\"}],\"pie\":[{\"automargin\":true,\"type\":\"pie\"}]},\"layout\":{\"autotypenumbers\":\"strict\",\"colorway\":[\"#636efa\",\"#EF553B\",\"#00cc96\",\"#ab63fa\",\"#FFA15A\",\"#19d3f3\",\"#FF6692\",\"#B6E880\",\"#FF97FF\",\"#FECB52\"],\"font\":{\"color\":\"#2a3f5f\"},\"hovermode\":\"closest\",\"hoverlabel\":{\"align\":\"left\"},\"paper_bgcolor\":\"white\",\"plot_bgcolor\":\"#E5ECF6\",\"polar\":{\"bgcolor\":\"#E5ECF6\",\"angularaxis\":{\"gridcolor\":\"white\",\"linecolor\":\"white\",\"ticks\":\"\"},\"radialaxis\":{\"gridcolor\":\"white\",\"linecolor\":\"white\",\"ticks\":\"\"}},\"ternary\":{\"bgcolor\":\"#E5ECF6\",\"aaxis\":{\"gridcolor\":\"white\",\"linecolor\":\"white\",\"ticks\":\"\"},\"baxis\":{\"gridcolor\":\"white\",\"linecolor\":\"white\",\"ticks\":\"\"},\"caxis\":{\"gridcolor\":\"white\",\"linecolor\":\"white\",\"ticks\":\"\"}},\"coloraxis\":{\"colorbar\":{\"outlinewidth\":0,\"ticks\":\"\"}},\"colorscale\":{\"sequential\":[[0.0,\"#0d0887\"],[0.1111111111111111,\"#46039f\"],[0.2222222222222222,\"#7201a8\"],[0.3333333333333333,\"#9c179e\"],[0.4444444444444444,\"#bd3786\"],[0.5555555555555556,\"#d8576b\"],[0.6666666666666666,\"#ed7953\"],[0.7777777777777778,\"#fb9f3a\"],[0.8888888888888888,\"#fdca26\"],[1.0,\"#f0f921\"]],\"sequentialminus\":[[0.0,\"#0d0887\"],[0.1111111111111111,\"#46039f\"],[0.2222222222222222,\"#7201a8\"],[0.3333333333333333,\"#9c179e\"],[0.4444444444444444,\"#bd3786\"],[0.5555555555555556,\"#d8576b\"],[0.6666666666666666,\"#ed7953\"],[0.7777777777777778,\"#fb9f3a\"],[0.8888888888888888,\"#fdca26\"],[1.0,\"#f0f921\"]],\"diverging\":[[0,\"#8e0152\"],[0.1,\"#c51b7d\"],[0.2,\"#de77ae\"],[0.3,\"#f1b6da\"],[0.4,\"#fde0ef\"],[0.5,\"#f7f7f7\"],[0.6,\"#e6f5d0\"],[0.7,\"#b8e186\"],[0.8,\"#7fbc41\"],[0.9,\"#4d9221\"],[1,\"#276419\"]]},\"xaxis\":{\"gridcolor\":\"white\",\"linecolor\":\"white\",\"ticks\":\"\",\"title\":{\"standoff\":15},\"zerolinecolor\":\"white\",\"automargin\":true,\"zerolinewidth\":2},\"yaxis\":{\"gridcolor\":\"white\",\"linecolor\":\"white\",\"ticks\":\"\",\"title\":{\"standoff\":15},\"zerolinecolor\":\"white\",\"automargin\":true,\"zerolinewidth\":2},\"scene\":{\"xaxis\":{\"backgroundcolor\":\"#E5ECF6\",\"gridcolor\":\"white\",\"linecolor\":\"white\",\"showbackground\":true,\"ticks\":\"\",\"zerolinecolor\":\"white\",\"gridwidth\":2},\"yaxis\":{\"backgroundcolor\":\"#E5ECF6\",\"gridcolor\":\"white\",\"linecolor\":\"white\",\"showbackground\":true,\"ticks\":\"\",\"zerolinecolor\":\"white\",\"gridwidth\":2},\"zaxis\":{\"backgroundcolor\":\"#E5ECF6\",\"gridcolor\":\"white\",\"linecolor\":\"white\",\"showbackground\":true,\"ticks\":\"\",\"zerolinecolor\":\"white\",\"gridwidth\":2}},\"shapedefaults\":{\"line\":{\"color\":\"#2a3f5f\"}},\"annotationdefaults\":{\"arrowcolor\":\"#2a3f5f\",\"arrowhead\":0,\"arrowwidth\":1},\"geo\":{\"bgcolor\":\"white\",\"landcolor\":\"#E5ECF6\",\"subunitcolor\":\"white\",\"showland\":true,\"showlakes\":true,\"lakecolor\":\"white\"},\"title\":{\"x\":0.05},\"mapbox\":{\"style\":\"light\"}}},\"title\":{\"text\":\"3D Scatter Plot\"},\"scene\":{\"xaxis\":{\"title\":{\"text\":\"X Axis\"}},\"yaxis\":{\"title\":{\"text\":\"Y Axis\"}},\"zaxis\":{\"title\":{\"text\":\"Z Axis\"}}}},                        {\"responsive\": true}                    ).then(function(){\n",
       "                            \n",
       "var gd = document.getElementById('43a3c952-16f6-466d-9043-dd391c79a20f');\n",
       "var x = new MutationObserver(function (mutations, observer) {{\n",
       "        var display = window.getComputedStyle(gd).display;\n",
       "        if (!display || display === 'none') {{\n",
       "            console.log([gd, 'removed!']);\n",
       "            Plotly.purge(gd);\n",
       "            observer.disconnect();\n",
       "        }}\n",
       "}});\n",
       "\n",
       "// Listen for the removal of the full notebook cells\n",
       "var notebookContainer = gd.closest('#notebook-container');\n",
       "if (notebookContainer) {{\n",
       "    x.observe(notebookContainer, {childList: true});\n",
       "}}\n",
       "\n",
       "// Listen for the clearing of the current output cell\n",
       "var outputEl = gd.closest('.output');\n",
       "if (outputEl) {{\n",
       "    x.observe(outputEl, {childList: true});\n",
       "}}\n",
       "\n",
       "                        })                };                });            </script>        </div>"
      ]
     },
     "metadata": {},
     "output_type": "display_data"
    }
   ],
   "source": [
    "#13.Create a 3D scatter plot using Plotly\n",
    "import plotly.graph_objects as go\n",
    "import numpy as np\n",
    "\n",
    "# Generate random data for the 3D scatter plot\n",
    "np.random.seed(42)\n",
    "x = np.random.rand(50)\n",
    "y = np.random.rand(50)\n",
    "z = np.random.rand(50)\n",
    "\n",
    "# Create a 3D scatter plot\n",
    "fig = go.Figure(data=[go.Scatter3d(\n",
    "    x=x,\n",
    "    y=y,\n",
    "    z=z,\n",
    "    mode='markers',\n",
    "    marker=dict(\n",
    "        size=8,\n",
    "        color=z,         # Color by z value\n",
    "        colorscale='Viridis', # Use the Viridis color scale\n",
    "        opacity=0.8\n",
    "    )\n",
    ")])\n",
    "\n",
    "# Add labels and title\n",
    "fig.update_layout(\n",
    "    title='3D Scatter Plot',\n",
    "    scene=dict(\n",
    "        xaxis_title='X Axis',\n",
    "        yaxis_title='Y Axis',\n",
    "        zaxis_title='Z Axis'\n",
    "    )\n",
    ")\n",
    "\n",
    "# Show the plot\n",
    "fig.show()\n"
   ]
  },
  {
   "cell_type": "code",
   "execution_count": null,
   "id": "c1bd717c-4e4c-484c-b37e-4e6dd5e495ab",
   "metadata": {},
   "outputs": [],
   "source": []
  },
  {
   "cell_type": "code",
   "execution_count": null,
   "id": "37699d0f-739c-42d9-a20d-bfe91d115795",
   "metadata": {},
   "outputs": [],
   "source": []
  },
  {
   "cell_type": "code",
   "execution_count": null,
   "id": "06ff746d-27a7-4468-b833-b2395618077c",
   "metadata": {},
   "outputs": [],
   "source": []
  },
  {
   "cell_type": "code",
   "execution_count": null,
   "id": "39d3b604-8363-4722-9548-40f78c8c6aa9",
   "metadata": {},
   "outputs": [],
   "source": []
  },
  {
   "cell_type": "code",
   "execution_count": null,
   "id": "2ee56afe-e317-4b98-8260-666b8cc0fa04",
   "metadata": {},
   "outputs": [],
   "source": []
  },
  {
   "cell_type": "code",
   "execution_count": null,
   "id": "2ae4867b-5618-4000-86b4-5ddf63e87f90",
   "metadata": {},
   "outputs": [],
   "source": []
  }
 ],
 "metadata": {
  "kernelspec": {
   "display_name": "Python 3 (ipykernel)",
   "language": "python",
   "name": "python3"
  },
  "language_info": {
   "codemirror_mode": {
    "name": "ipython",
    "version": 3
   },
   "file_extension": ".py",
   "mimetype": "text/x-python",
   "name": "python",
   "nbconvert_exporter": "python",
   "pygments_lexer": "ipython3",
   "version": "3.13.0"
  }
 },
 "nbformat": 4,
 "nbformat_minor": 5
}
